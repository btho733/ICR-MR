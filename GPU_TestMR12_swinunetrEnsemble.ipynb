{
 "cells": [
  {
   "cell_type": "markdown",
   "id": "0af0570a",
   "metadata": {},
   "source": [
    "## Cross-validation and Ensembling 5 swin-UNETR folds trained and saved as 5 separate model files"
   ]
  },
  {
   "cell_type": "code",
   "execution_count": 1,
   "id": "323028e0",
   "metadata": {},
   "outputs": [
    {
     "data": {
      "text/html": [
       "<style>.container { width:100% !important; }</style>"
      ],
      "text/plain": [
       "<IPython.core.display.HTML object>"
      ]
     },
     "metadata": {},
     "output_type": "display_data"
    }
   ],
   "source": [
    "from IPython.display import display, HTML\n",
    "display(HTML(\"<style>.container { width:100% !important; }</style>\"))"
   ]
  },
  {
   "cell_type": "code",
   "execution_count": 2,
   "id": "36308bf7",
   "metadata": {},
   "outputs": [],
   "source": [
    "# !python -c \"import monai\" || pip install -q \"monai-weekly[ignite, nibabel, tqdm]\"\n",
    "!pip install -q \"monai-weekly[nibabel, tqdm, einops]\"\n",
    "!python -c \"import matplotlib\" || pip install -q matplotlib\n",
    "%matplotlib inline"
   ]
  },
  {
   "cell_type": "code",
   "execution_count": 3,
   "id": "6267cb18",
   "metadata": {},
   "outputs": [
    {
     "name": "stdout",
     "output_type": "stream",
     "text": [
      "MONAI version: 0.10.dev2231\n",
      "Numpy version: 1.23.1\n",
      "Pytorch version: 1.12.0+cu102\n",
      "MONAI flags: HAS_EXT = False, USE_COMPILED = False, USE_META_DICT = False\n",
      "MONAI rev id: 8236821c099e5997f7ad0410c5374e4472f4ed14\n",
      "MONAI __file__: /home/adminbthomas/miniconda3/envs/PT02/lib/python3.9/site-packages/monai/__init__.py\n",
      "\n",
      "Optional dependencies:\n",
      "Pytorch Ignite version: 0.4.9\n",
      "Nibabel version: 4.0.1\n",
      "scikit-image version: 0.19.3\n",
      "Pillow version: 9.2.0\n",
      "Tensorboard version: 2.9.1\n",
      "gdown version: 4.5.1\n",
      "TorchVision version: 0.13.0+cu102\n",
      "tqdm version: 4.64.0\n",
      "lmdb version: 1.3.0\n",
      "psutil version: 5.9.1\n",
      "pandas version: 1.4.3\n",
      "einops version: 0.4.1\n",
      "transformers version: 4.20.1\n",
      "mlflow version: 1.27.0\n",
      "pynrrd version: NOT INSTALLED or UNKNOWN VERSION.\n",
      "\n",
      "For details about installing the optional dependencies, please visit:\n",
      "    https://docs.monai.io/en/latest/installation.html#installing-the-recommended-dependencies\n",
      "\n"
     ]
    }
   ],
   "source": [
    "from abc import ABC, abstractmethod\n",
    "import logging\n",
    "import os\n",
    "import tempfile\n",
    "import shutil\n",
    "import sys\n",
    "\n",
    "import nibabel as nib\n",
    "import numpy as np\n",
    "import torch\n",
    "\n",
    "from monai.apps import CrossValidation\n",
    "from monai.config import print_config\n",
    "from monai.data import CacheDataset, DataLoader, create_test_image_3d\n",
    "from monai.engines import EnsembleEvaluator, SupervisedEvaluator, SupervisedTrainer\n",
    "from monai.handlers import MeanDice, StatsHandler, ValidationHandler, from_engine\n",
    "from monai.inferers import SimpleInferer, SlidingWindowInferer\n",
    "from monai.losses import DiceLoss\n",
    "from monai.networks.nets import UNet, SwinUNETR, UNETR\n",
    "from monai.metrics import DiceMetric\n",
    "\n",
    "from monai.transforms import (\n",
    "    Activationsd,\n",
    "    EnsureChannelFirstd,\n",
    "    AsDiscreted,\n",
    "    Compose,\n",
    "    LoadImaged,\n",
    "    MeanEnsembled,\n",
    "    RandCropByPosNegLabeld,\n",
    "    RandRotate90d,\n",
    "    ScaleIntensityd,\n",
    "    EnsureTyped,\n",
    "    VoteEnsembled,\n",
    ")\n",
    "from monai.utils import set_determinism\n",
    "\n",
    "print_config()"
   ]
  },
  {
   "cell_type": "code",
   "execution_count": 4,
   "id": "dd09c86a",
   "metadata": {},
   "outputs": [
    {
     "name": "stdout",
     "output_type": "stream",
     "text": [
      "/home/adminbthomas/Downloads/ensemble\n"
     ]
    }
   ],
   "source": [
    "# directory = os.environ.get(\"MONAI_DATA_DIRECTORY\")\n",
    "root_dir = \"/home/adminbthomas/Downloads/ensemble\"\n",
    "print(root_dir)"
   ]
  },
  {
   "cell_type": "code",
   "execution_count": 5,
   "id": "490df5d6",
   "metadata": {},
   "outputs": [],
   "source": [
    "set_determinism(seed=0)\n",
    "logging.basicConfig(stream=sys.stdout, level=logging.INFO)\n",
    "device = torch.device(\"cuda:1\")"
   ]
  },
  {
   "cell_type": "code",
   "execution_count": 6,
   "id": "351fd70a",
   "metadata": {},
   "outputs": [],
   "source": [
    "model_dir = \"/home/adminbthomas/Downloads/ensemble/swinunetr\""
   ]
  },
  {
   "cell_type": "code",
   "execution_count": 7,
   "id": "87bfa40e",
   "metadata": {},
   "outputs": [],
   "source": [
    "models=[]"
   ]
  },
  {
   "cell_type": "code",
   "execution_count": 8,
   "id": "6ea9794d",
   "metadata": {},
   "outputs": [
    {
     "name": "stdout",
     "output_type": "stream",
     "text": [
      "Appending model0\n",
      "Appending model1\n",
      "Appending model2\n",
      "Appending model3\n",
      "Appending model4\n"
     ]
    }
   ],
   "source": [
    "for i in range(5):\n",
    "    model = SwinUNETR(\n",
    "        img_size=(96, 96, 96),\n",
    "        in_channels=1,\n",
    "        out_channels=6,\n",
    "        feature_size=12,\n",
    "        use_checkpoint=True,\n",
    "        ).to(device)\n",
    "    model.load_state_dict(torch.load(os.path.join(model_dir, f\"TestMR10_swinUNetR_fold{i}.pth\")))\n",
    "    model.eval()\n",
    "    print(f'Appending model{i}')\n",
    "    models.append(model)"
   ]
  },
  {
   "cell_type": "code",
   "execution_count": 9,
   "id": "89d00570",
   "metadata": {},
   "outputs": [],
   "source": [
    "import glob\n",
    "from monai.data import Dataset\n",
    "from monai.handlers.utils import from_engine\n",
    "from monai.transforms import (\n",
    "    AsDiscrete,\n",
    "    AsDiscreted,\n",
    "    EnsureChannelFirstd,\n",
    "    Compose,\n",
    "    CropForegroundd,\n",
    "    LoadImaged,\n",
    "    Orientationd,\n",
    "    RandCropByPosNegLabeld,\n",
    "    SaveImaged,\n",
    "    ScaleIntensityRanged,\n",
    "    Spacingd,\n",
    "    SplitChanneld,\n",
    "    EnsureTyped,\n",
    "    EnsureType,\n",
    "    Invertd,\n",
    ")\n",
    "\n",
    "test_images = sorted(\n",
    "    glob.glob(os.path.join(root_dir, \"data/imagesTs\", \"*T2W.nii.gz\")))\n",
    "# test_labels = sorted(\n",
    "#     glob.glob(os.path.join(data_dir, \"data/imagesTs/outs_binarised/\", \"seg*.nii.gz\")))\n",
    "\n",
    "# test_data = [{\"image\": image,\"label\": label} for image,label in zip(test_images, test_labels)]\n",
    "test_data = [{\"image\": image} for image in test_images]\n",
    "\n",
    "test_org_transforms = Compose(\n",
    "    [\n",
    "        LoadImaged(keys=\"image\"),\n",
    "        EnsureChannelFirstd(keys=\"image\"),\n",
    "        Orientationd(keys=[\"image\"], axcodes=\"RAS\"),\n",
    "        Spacingd(keys=[\"image\"], pixdim=(\n",
    "            1.5, 1.5, 1.0), mode=\"bilinear\"),\n",
    "        ScaleIntensityRanged(\n",
    "            keys=[\"image\"], a_min=0, a_max=250,\n",
    "            b_min=0.0, b_max=1.0, clip=False,\n",
    "        ),\n",
    "        CropForegroundd(keys=[\"image\"], source_key=\"image\"),\n",
    "        EnsureTyped(keys=\"image\"),\n",
    "    ]\n",
    ")\n",
    "test_org_ds = Dataset(\n",
    "    data=test_data, transform=test_org_transforms)\n",
    "\n",
    "test_loader = DataLoader(test_org_ds, batch_size=1, num_workers=4)"
   ]
  },
  {
   "cell_type": "code",
   "execution_count": 10,
   "id": "491b38bb",
   "metadata": {},
   "outputs": [
    {
     "data": {
      "text/plain": [
       "[{'image': '/home/adminbthomas/Downloads/ensemble/data/imagesTs/A002_v1_T2W.nii.gz'},\n",
       " {'image': '/home/adminbthomas/Downloads/ensemble/data/imagesTs/A002_v2_T2W.nii.gz'},\n",
       " {'image': '/home/adminbthomas/Downloads/ensemble/data/imagesTs/A002_v3_T2W.nii.gz'},\n",
       " {'image': '/home/adminbthomas/Downloads/ensemble/data/imagesTs/A003_v1_T2W.nii.gz'},\n",
       " {'image': '/home/adminbthomas/Downloads/ensemble/data/imagesTs/A003_v2_T2W.nii.gz'},\n",
       " {'image': '/home/adminbthomas/Downloads/ensemble/data/imagesTs/A009_v1_T2W.nii.gz'},\n",
       " {'image': '/home/adminbthomas/Downloads/ensemble/data/imagesTs/A009_v2_T2W.nii.gz'},\n",
       " {'image': '/home/adminbthomas/Downloads/ensemble/data/imagesTs/A011_v1_T2W.nii.gz'},\n",
       " {'image': '/home/adminbthomas/Downloads/ensemble/data/imagesTs/A011_v2_T2W.nii.gz'},\n",
       " {'image': '/home/adminbthomas/Downloads/ensemble/data/imagesTs/A013_v1_T2W.nii.gz'},\n",
       " {'image': '/home/adminbthomas/Downloads/ensemble/data/imagesTs/A013_v2_T2W.nii.gz'},\n",
       " {'image': '/home/adminbthomas/Downloads/ensemble/data/imagesTs/A014_v1_T2W.nii.gz'},\n",
       " {'image': '/home/adminbthomas/Downloads/ensemble/data/imagesTs/A014_v2_T2W.nii.gz'},\n",
       " {'image': '/home/adminbthomas/Downloads/ensemble/data/imagesTs/A015_v1_T2W.nii.gz'},\n",
       " {'image': '/home/adminbthomas/Downloads/ensemble/data/imagesTs/A015_v2_T2W.nii.gz'},\n",
       " {'image': '/home/adminbthomas/Downloads/ensemble/data/imagesTs/A016_v1_T2W.nii.gz'},\n",
       " {'image': '/home/adminbthomas/Downloads/ensemble/data/imagesTs/A016_v2_T2W.nii.gz'},\n",
       " {'image': '/home/adminbthomas/Downloads/ensemble/data/imagesTs/A017_v1_T2W.nii.gz'},\n",
       " {'image': '/home/adminbthomas/Downloads/ensemble/data/imagesTs/A017_v2_T2W.nii.gz'},\n",
       " {'image': '/home/adminbthomas/Downloads/ensemble/data/imagesTs/A018_v1_T2W.nii.gz'},\n",
       " {'image': '/home/adminbthomas/Downloads/ensemble/data/imagesTs/A018_v2_T2W.nii.gz'},\n",
       " {'image': '/home/adminbthomas/Downloads/ensemble/data/imagesTs/A021_v1_T2W.nii.gz'},\n",
       " {'image': '/home/adminbthomas/Downloads/ensemble/data/imagesTs/A021_v2_T2W.nii.gz'},\n",
       " {'image': '/home/adminbthomas/Downloads/ensemble/data/imagesTs/A022_v1_T2W.nii.gz'},\n",
       " {'image': '/home/adminbthomas/Downloads/ensemble/data/imagesTs/A022_v2_T2W.nii.gz'},\n",
       " {'image': '/home/adminbthomas/Downloads/ensemble/data/imagesTs/A023_v1_T2W.nii.gz'},\n",
       " {'image': '/home/adminbthomas/Downloads/ensemble/data/imagesTs/A023_v2_T2W.nii.gz'},\n",
       " {'image': '/home/adminbthomas/Downloads/ensemble/data/imagesTs/A024_v1_T2W.nii.gz'},\n",
       " {'image': '/home/adminbthomas/Downloads/ensemble/data/imagesTs/A024_v2_T2W.nii.gz'},\n",
       " {'image': '/home/adminbthomas/Downloads/ensemble/data/imagesTs/A026_v1_T2W.nii.gz'},\n",
       " {'image': '/home/adminbthomas/Downloads/ensemble/data/imagesTs/A026_v2_T2W.nii.gz'},\n",
       " {'image': '/home/adminbthomas/Downloads/ensemble/data/imagesTs/A028_v1_T2W.nii.gz'},\n",
       " {'image': '/home/adminbthomas/Downloads/ensemble/data/imagesTs/A028_v2_T2W.nii.gz'},\n",
       " {'image': '/home/adminbthomas/Downloads/ensemble/data/imagesTs/A029_v1_T2W.nii.gz'},\n",
       " {'image': '/home/adminbthomas/Downloads/ensemble/data/imagesTs/A029_v2_T2W.nii.gz'},\n",
       " {'image': '/home/adminbthomas/Downloads/ensemble/data/imagesTs/A029_v3_T2W.nii.gz'},\n",
       " {'image': '/home/adminbthomas/Downloads/ensemble/data/imagesTs/A029_v4_T2W.nii.gz'},\n",
       " {'image': '/home/adminbthomas/Downloads/ensemble/data/imagesTs/A030_v1_T2W.nii.gz'},\n",
       " {'image': '/home/adminbthomas/Downloads/ensemble/data/imagesTs/A030_v2_T2W.nii.gz'},\n",
       " {'image': '/home/adminbthomas/Downloads/ensemble/data/imagesTs/A031_v1_T2W.nii.gz'},\n",
       " {'image': '/home/adminbthomas/Downloads/ensemble/data/imagesTs/A031_v2_T2W.nii.gz'},\n",
       " {'image': '/home/adminbthomas/Downloads/ensemble/data/imagesTs/A032_v1_T2W.nii.gz'},\n",
       " {'image': '/home/adminbthomas/Downloads/ensemble/data/imagesTs/A032_v2_T2W.nii.gz'},\n",
       " {'image': '/home/adminbthomas/Downloads/ensemble/data/imagesTs/A033_v1_T2W.nii.gz'},\n",
       " {'image': '/home/adminbthomas/Downloads/ensemble/data/imagesTs/A033_v2_T2W.nii.gz'},\n",
       " {'image': '/home/adminbthomas/Downloads/ensemble/data/imagesTs/A033_v3_T2W.nii.gz'},\n",
       " {'image': '/home/adminbthomas/Downloads/ensemble/data/imagesTs/A033_v4_T2W.nii.gz'},\n",
       " {'image': '/home/adminbthomas/Downloads/ensemble/data/imagesTs/A034_v1_T2W.nii.gz'},\n",
       " {'image': '/home/adminbthomas/Downloads/ensemble/data/imagesTs/A034_v2_T2W.nii.gz'},\n",
       " {'image': '/home/adminbthomas/Downloads/ensemble/data/imagesTs/A036_v1_T2W.nii.gz'},\n",
       " {'image': '/home/adminbthomas/Downloads/ensemble/data/imagesTs/A036_v2_T2W.nii.gz'},\n",
       " {'image': '/home/adminbthomas/Downloads/ensemble/data/imagesTs/A037_v1_T2W.nii.gz'},\n",
       " {'image': '/home/adminbthomas/Downloads/ensemble/data/imagesTs/A037_v2_T2W.nii.gz'},\n",
       " {'image': '/home/adminbthomas/Downloads/ensemble/data/imagesTs/A038_v1_T2W.nii.gz'},\n",
       " {'image': '/home/adminbthomas/Downloads/ensemble/data/imagesTs/A038_v2_T2W.nii.gz'},\n",
       " {'image': '/home/adminbthomas/Downloads/ensemble/data/imagesTs/A039_v1_T2W.nii.gz'},\n",
       " {'image': '/home/adminbthomas/Downloads/ensemble/data/imagesTs/A039_v2_T2W.nii.gz'},\n",
       " {'image': '/home/adminbthomas/Downloads/ensemble/data/imagesTs/A040_v1_T2W.nii.gz'},\n",
       " {'image': '/home/adminbthomas/Downloads/ensemble/data/imagesTs/A040_v2_T2W.nii.gz'},\n",
       " {'image': '/home/adminbthomas/Downloads/ensemble/data/imagesTs/A041_v1_T2W.nii.gz'},\n",
       " {'image': '/home/adminbthomas/Downloads/ensemble/data/imagesTs/A041_v2_T2W.nii.gz'},\n",
       " {'image': '/home/adminbthomas/Downloads/ensemble/data/imagesTs/A043_v1_T2W.nii.gz'},\n",
       " {'image': '/home/adminbthomas/Downloads/ensemble/data/imagesTs/A043_v2_T2W.nii.gz'},\n",
       " {'image': '/home/adminbthomas/Downloads/ensemble/data/imagesTs/A043_v5_T2W.nii.gz'},\n",
       " {'image': '/home/adminbthomas/Downloads/ensemble/data/imagesTs/A046_v1_T2W.nii.gz'},\n",
       " {'image': '/home/adminbthomas/Downloads/ensemble/data/imagesTs/A046_v2_T2W.nii.gz'},\n",
       " {'image': '/home/adminbthomas/Downloads/ensemble/data/imagesTs/A047_v1_T2W.nii.gz'},\n",
       " {'image': '/home/adminbthomas/Downloads/ensemble/data/imagesTs/A047_v2_T2W.nii.gz'},\n",
       " {'image': '/home/adminbthomas/Downloads/ensemble/data/imagesTs/A048_v1_T2W.nii.gz'},\n",
       " {'image': '/home/adminbthomas/Downloads/ensemble/data/imagesTs/A048_v2_T2W.nii.gz'},\n",
       " {'image': '/home/adminbthomas/Downloads/ensemble/data/imagesTs/A049_v1_T2W.nii.gz'},\n",
       " {'image': '/home/adminbthomas/Downloads/ensemble/data/imagesTs/A049_v2_T2W.nii.gz'},\n",
       " {'image': '/home/adminbthomas/Downloads/ensemble/data/imagesTs/A050_v1_T2W.nii.gz'},\n",
       " {'image': '/home/adminbthomas/Downloads/ensemble/data/imagesTs/A050_v2_T2W.nii.gz'},\n",
       " {'image': '/home/adminbthomas/Downloads/ensemble/data/imagesTs/A051_v1_T2W.nii.gz'},\n",
       " {'image': '/home/adminbthomas/Downloads/ensemble/data/imagesTs/A051_v2_T2W.nii.gz'},\n",
       " {'image': '/home/adminbthomas/Downloads/ensemble/data/imagesTs/A052_v1_T2W.nii.gz'},\n",
       " {'image': '/home/adminbthomas/Downloads/ensemble/data/imagesTs/A052_v2_T2W.nii.gz'},\n",
       " {'image': '/home/adminbthomas/Downloads/ensemble/data/imagesTs/A055_v1_T2W.nii.gz'},\n",
       " {'image': '/home/adminbthomas/Downloads/ensemble/data/imagesTs/A055_v2_T2W.nii.gz'},\n",
       " {'image': '/home/adminbthomas/Downloads/ensemble/data/imagesTs/A056_v1_T2W.nii.gz'},\n",
       " {'image': '/home/adminbthomas/Downloads/ensemble/data/imagesTs/A056_v2_T2W.nii.gz'},\n",
       " {'image': '/home/adminbthomas/Downloads/ensemble/data/imagesTs/A057_v1_T2W.nii.gz'},\n",
       " {'image': '/home/adminbthomas/Downloads/ensemble/data/imagesTs/A057_v2_T2W.nii.gz'},\n",
       " {'image': '/home/adminbthomas/Downloads/ensemble/data/imagesTs/A061_v1_T2W.nii.gz'},\n",
       " {'image': '/home/adminbthomas/Downloads/ensemble/data/imagesTs/A061_v2_T2W.nii.gz'},\n",
       " {'image': '/home/adminbthomas/Downloads/ensemble/data/imagesTs/A062_v1_T2W.nii.gz'},\n",
       " {'image': '/home/adminbthomas/Downloads/ensemble/data/imagesTs/A062_v2_T2W.nii.gz'},\n",
       " {'image': '/home/adminbthomas/Downloads/ensemble/data/imagesTs/A063_v1_T2W.nii.gz'},\n",
       " {'image': '/home/adminbthomas/Downloads/ensemble/data/imagesTs/A063_v2_T2W.nii.gz'},\n",
       " {'image': '/home/adminbthomas/Downloads/ensemble/data/imagesTs/A064_v1_T2W.nii.gz'},\n",
       " {'image': '/home/adminbthomas/Downloads/ensemble/data/imagesTs/A064_v2_T2W.nii.gz'},\n",
       " {'image': '/home/adminbthomas/Downloads/ensemble/data/imagesTs/A066_v1_T2W.nii.gz'},\n",
       " {'image': '/home/adminbthomas/Downloads/ensemble/data/imagesTs/A066_v2_T2W.nii.gz'},\n",
       " {'image': '/home/adminbthomas/Downloads/ensemble/data/imagesTs/A067_v1_T2W.nii.gz'},\n",
       " {'image': '/home/adminbthomas/Downloads/ensemble/data/imagesTs/A067_v2_T2W.nii.gz'},\n",
       " {'image': '/home/adminbthomas/Downloads/ensemble/data/imagesTs/A068_v1_T2W.nii.gz'},\n",
       " {'image': '/home/adminbthomas/Downloads/ensemble/data/imagesTs/A068_v2_T2W.nii.gz'},\n",
       " {'image': '/home/adminbthomas/Downloads/ensemble/data/imagesTs/A071_v1_T2W.nii.gz'},\n",
       " {'image': '/home/adminbthomas/Downloads/ensemble/data/imagesTs/A071_v2_T2W.nii.gz'},\n",
       " {'image': '/home/adminbthomas/Downloads/ensemble/data/imagesTs/A074_v1_T2W.nii.gz'},\n",
       " {'image': '/home/adminbthomas/Downloads/ensemble/data/imagesTs/A074_v2_T2W.nii.gz'},\n",
       " {'image': '/home/adminbthomas/Downloads/ensemble/data/imagesTs/A076_v1_T2W.nii.gz'},\n",
       " {'image': '/home/adminbthomas/Downloads/ensemble/data/imagesTs/A076_v2_T2W.nii.gz'}]"
      ]
     },
     "execution_count": 10,
     "metadata": {},
     "output_type": "execute_result"
    }
   ],
   "source": [
    "test_data"
   ]
  },
  {
   "cell_type": "code",
   "execution_count": 11,
   "id": "8d36209f",
   "metadata": {},
   "outputs": [],
   "source": [
    "def ensemble_inference(post_transforms, models):\n",
    "    evaluator = EnsembleEvaluator(\n",
    "        device=device,\n",
    "        val_data_loader=test_loader,\n",
    "        pred_keys=[\"pred0\", \"pred1\", \"pred2\", \"pred3\", \"pred4\"],\n",
    "        networks=models,\n",
    "        inferer=SlidingWindowInferer(roi_size=(96, 96, 96), sw_batch_size=4, overlap=0.8),\n",
    "        postprocessing=post_transforms,\n",
    "    )\n",
    "    evaluator.run()"
   ]
  },
  {
   "cell_type": "code",
   "execution_count": 12,
   "id": "4fab6fa1",
   "metadata": {},
   "outputs": [
    {
     "name": "stdout",
     "output_type": "stream",
     "text": [
      "INFO:ignite.engine.engine.EnsembleEvaluator:Engine run resuming from iteration 0, epoch 0 until 1 epochs\n"
     ]
    },
    {
     "name": "stderr",
     "output_type": "stream",
     "text": [
      "Modifying image pixdim from [1.4648438 1.4648438 4.        0.       ] to [  1.46484375   1.46484375   4.         268.45717811]\n",
      "Modifying image pixdim from [1.4648438 1.4648438 4.        0.       ] to [  1.46484375   1.46484375   4.         268.45717811]\n",
      "Modifying image pixdim from [1.4648438 1.4648438 4.        0.       ] to [  1.46484375   1.46484375   4.         268.45717811]\n",
      "Modifying image pixdim from [1.4648438 1.4648438 4.        0.       ] to [  1.46484375   1.46484375   4.         268.45717811]\n",
      "None of the inputs have requires_grad=True. Gradients will be None\n"
     ]
    },
    {
     "name": "stdout",
     "output_type": "stream",
     "text": [
      "2024-03-31 18:45:05,781 INFO image_writer.py:194 - writing: outMR12wtAvgAll/A002_v1_T2W_seg.nii.gz\n",
      "2024-03-31 18:45:39,376 INFO image_writer.py:194 - writing: outMR12wtAvgAll/A002_v2_T2W_seg.nii.gz\n",
      "2024-03-31 18:46:13,286 INFO image_writer.py:194 - writing: outMR12wtAvgAll/A002_v3_T2W_seg.nii.gz\n",
      "2024-03-31 18:46:47,277 INFO image_writer.py:194 - writing: outMR12wtAvgAll/A003_v1_T2W_seg.nii.gz\n",
      "2024-03-31 18:47:21,464 INFO image_writer.py:194 - writing: outMR12wtAvgAll/A003_v2_T2W_seg.nii.gz\n",
      "2024-03-31 18:47:55,643 INFO image_writer.py:194 - writing: outMR12wtAvgAll/A009_v1_T2W_seg.nii.gz\n",
      "2024-03-31 18:48:29,869 INFO image_writer.py:194 - writing: outMR12wtAvgAll/A009_v2_T2W_seg.nii.gz\n",
      "2024-03-31 18:49:04,151 INFO image_writer.py:194 - writing: outMR12wtAvgAll/A011_v1_T2W_seg.nii.gz\n",
      "2024-03-31 18:49:38,471 INFO image_writer.py:194 - writing: outMR12wtAvgAll/A011_v2_T2W_seg.nii.gz\n",
      "2024-03-31 18:50:12,805 INFO image_writer.py:194 - writing: outMR12wtAvgAll/A013_v1_T2W_seg.nii.gz\n",
      "2024-03-31 18:50:41,532 INFO image_writer.py:194 - writing: outMR12wtAvgAll/A013_v2_T2W_seg.nii.gz\n",
      "2024-03-31 18:51:15,888 INFO image_writer.py:194 - writing: outMR12wtAvgAll/A014_v1_T2W_seg.nii.gz\n",
      "2024-03-31 18:51:50,263 INFO image_writer.py:194 - writing: outMR12wtAvgAll/A014_v2_T2W_seg.nii.gz\n",
      "2024-03-31 18:52:24,644 INFO image_writer.py:194 - writing: outMR12wtAvgAll/A015_v1_T2W_seg.nii.gz\n",
      "2024-03-31 18:52:59,029 INFO image_writer.py:194 - writing: outMR12wtAvgAll/A015_v2_T2W_seg.nii.gz\n"
     ]
    },
    {
     "name": "stderr",
     "output_type": "stream",
     "text": [
      "Modifying image pixdim from [1.4648438 1.4648438 8.        0.       ] to [  1.46484375   1.46484375   8.         281.03604124]\n"
     ]
    },
    {
     "name": "stdout",
     "output_type": "stream",
     "text": [
      "2024-03-31 18:53:33,431 INFO image_writer.py:194 - writing: outMR12wtAvgAll/A016_v1_T2W_seg.nii.gz\n"
     ]
    },
    {
     "name": "stderr",
     "output_type": "stream",
     "text": [
      "Modifying image pixdim from [1.4648438 1.4648438 8.        0.       ] to [  1.46484375   1.46484375   8.         281.03604124]\n"
     ]
    },
    {
     "name": "stdout",
     "output_type": "stream",
     "text": [
      "2024-03-31 18:54:07,816 INFO image_writer.py:194 - writing: outMR12wtAvgAll/A016_v2_T2W_seg.nii.gz\n"
     ]
    },
    {
     "name": "stderr",
     "output_type": "stream",
     "text": [
      "Modifying image pixdim from [1.4648438 1.4648438 8.        0.       ] to [  1.46484375   1.46484375   8.         281.03604124]\n"
     ]
    },
    {
     "name": "stdout",
     "output_type": "stream",
     "text": [
      "2024-03-31 18:54:42,198 INFO image_writer.py:194 - writing: outMR12wtAvgAll/A017_v1_T2W_seg.nii.gz\n"
     ]
    },
    {
     "name": "stderr",
     "output_type": "stream",
     "text": [
      "Modifying image pixdim from [1.4648438 1.4648438 8.        0.       ] to [  1.46484375   1.46484375   8.         281.03604124]\n"
     ]
    },
    {
     "name": "stdout",
     "output_type": "stream",
     "text": [
      "2024-03-31 18:55:16,575 INFO image_writer.py:194 - writing: outMR12wtAvgAll/A017_v2_T2W_seg.nii.gz\n",
      "2024-03-31 18:55:50,953 INFO image_writer.py:194 - writing: outMR12wtAvgAll/A018_v1_T2W_seg.nii.gz\n",
      "2024-03-31 18:56:25,330 INFO image_writer.py:194 - writing: outMR12wtAvgAll/A018_v2_T2W_seg.nii.gz\n",
      "2024-03-31 18:56:59,692 INFO image_writer.py:194 - writing: outMR12wtAvgAll/A021_v1_T2W_seg.nii.gz\n",
      "2024-03-31 18:57:34,053 INFO image_writer.py:194 - writing: outMR12wtAvgAll/A021_v2_T2W_seg.nii.gz\n",
      "2024-03-31 18:59:33,111 INFO image_writer.py:194 - writing: outMR12wtAvgAll/A022_v1_T2W_seg.nii.gz\n",
      "2024-03-31 19:01:32,068 INFO image_writer.py:194 - writing: outMR12wtAvgAll/A022_v2_T2W_seg.nii.gz\n",
      "2024-03-31 19:03:31,024 INFO image_writer.py:194 - writing: outMR12wtAvgAll/A023_v1_T2W_seg.nii.gz\n",
      "2024-03-31 19:05:29,972 INFO image_writer.py:194 - writing: outMR12wtAvgAll/A023_v2_T2W_seg.nii.gz\n",
      "2024-03-31 19:06:04,297 INFO image_writer.py:194 - writing: outMR12wtAvgAll/A024_v1_T2W_seg.nii.gz\n",
      "2024-03-31 19:06:38,629 INFO image_writer.py:194 - writing: outMR12wtAvgAll/A024_v2_T2W_seg.nii.gz\n",
      "2024-03-31 19:08:37,582 INFO image_writer.py:194 - writing: outMR12wtAvgAll/A026_v1_T2W_seg.nii.gz\n",
      "2024-03-31 19:10:36,570 INFO image_writer.py:194 - writing: outMR12wtAvgAll/A026_v2_T2W_seg.nii.gz\n",
      "2024-03-31 19:11:10,921 INFO image_writer.py:194 - writing: outMR12wtAvgAll/A028_v1_T2W_seg.nii.gz\n",
      "2024-03-31 19:11:45,275 INFO image_writer.py:194 - writing: outMR12wtAvgAll/A028_v2_T2W_seg.nii.gz\n",
      "2024-03-31 19:12:19,616 INFO image_writer.py:194 - writing: outMR12wtAvgAll/A029_v1_T2W_seg.nii.gz\n",
      "2024-03-31 19:12:48,333 INFO image_writer.py:194 - writing: outMR12wtAvgAll/A029_v2_T2W_seg.nii.gz\n",
      "2024-03-31 19:13:22,669 INFO image_writer.py:194 - writing: outMR12wtAvgAll/A029_v3_T2W_seg.nii.gz\n",
      "2024-03-31 19:13:51,374 INFO image_writer.py:194 - writing: outMR12wtAvgAll/A029_v4_T2W_seg.nii.gz\n",
      "2024-03-31 19:14:25,719 INFO image_writer.py:194 - writing: outMR12wtAvgAll/A030_v1_T2W_seg.nii.gz\n",
      "2024-03-31 19:15:00,079 INFO image_writer.py:194 - writing: outMR12wtAvgAll/A030_v2_T2W_seg.nii.gz\n",
      "2024-03-31 19:15:28,779 INFO image_writer.py:194 - writing: outMR12wtAvgAll/A031_v1_T2W_seg.nii.gz\n",
      "2024-03-31 19:15:57,476 INFO image_writer.py:194 - writing: outMR12wtAvgAll/A031_v2_T2W_seg.nii.gz\n",
      "2024-03-31 19:17:56,473 INFO image_writer.py:194 - writing: outMR12wtAvgAll/A032_v1_T2W_seg.nii.gz\n",
      "2024-03-31 19:19:55,473 INFO image_writer.py:194 - writing: outMR12wtAvgAll/A032_v2_T2W_seg.nii.gz\n",
      "2024-03-31 19:21:54,455 INFO image_writer.py:194 - writing: outMR12wtAvgAll/A033_v1_T2W_seg.nii.gz\n",
      "2024-03-31 19:23:53,455 INFO image_writer.py:194 - writing: outMR12wtAvgAll/A033_v2_T2W_seg.nii.gz\n",
      "2024-03-31 19:25:52,451 INFO image_writer.py:194 - writing: outMR12wtAvgAll/A033_v3_T2W_seg.nii.gz\n",
      "2024-03-31 19:27:51,459 INFO image_writer.py:194 - writing: outMR12wtAvgAll/A033_v4_T2W_seg.nii.gz\n",
      "2024-03-31 19:29:50,416 INFO image_writer.py:194 - writing: outMR12wtAvgAll/A034_v1_T2W_seg.nii.gz\n",
      "2024-03-31 19:31:49,373 INFO image_writer.py:194 - writing: outMR12wtAvgAll/A034_v2_T2W_seg.nii.gz\n",
      "2024-03-31 19:33:48,350 INFO image_writer.py:194 - writing: outMR12wtAvgAll/A036_v1_T2W_seg.nii.gz\n",
      "2024-03-31 19:35:47,333 INFO image_writer.py:194 - writing: outMR12wtAvgAll/A036_v2_T2W_seg.nii.gz\n",
      "2024-03-31 19:37:26,570 INFO image_writer.py:194 - writing: outMR12wtAvgAll/A037_v1_T2W_seg.nii.gz\n",
      "2024-03-31 19:39:25,535 INFO image_writer.py:194 - writing: outMR12wtAvgAll/A037_v2_T2W_seg.nii.gz\n",
      "2024-03-31 19:39:59,865 INFO image_writer.py:194 - writing: outMR12wtAvgAll/A038_v1_T2W_seg.nii.gz\n",
      "2024-03-31 19:40:34,207 INFO image_writer.py:194 - writing: outMR12wtAvgAll/A038_v2_T2W_seg.nii.gz\n",
      "2024-03-31 19:41:02,927 INFO image_writer.py:194 - writing: outMR12wtAvgAll/A039_v1_T2W_seg.nii.gz\n",
      "2024-03-31 19:41:26,000 INFO image_writer.py:194 - writing: outMR12wtAvgAll/A039_v2_T2W_seg.nii.gz\n",
      "2024-03-31 19:43:24,946 INFO image_writer.py:194 - writing: outMR12wtAvgAll/A040_v1_T2W_seg.nii.gz\n",
      "2024-03-31 19:45:23,936 INFO image_writer.py:194 - writing: outMR12wtAvgAll/A040_v2_T2W_seg.nii.gz\n",
      "2024-03-31 19:45:58,287 INFO image_writer.py:194 - writing: outMR12wtAvgAll/A041_v1_T2W_seg.nii.gz\n",
      "2024-03-31 19:46:32,629 INFO image_writer.py:194 - writing: outMR12wtAvgAll/A041_v2_T2W_seg.nii.gz\n",
      "2024-03-31 19:48:31,612 INFO image_writer.py:194 - writing: outMR12wtAvgAll/A043_v1_T2W_seg.nii.gz\n",
      "2024-03-31 19:50:30,569 INFO image_writer.py:194 - writing: outMR12wtAvgAll/A043_v2_T2W_seg.nii.gz\n",
      "2024-03-31 19:52:29,553 INFO image_writer.py:194 - writing: outMR12wtAvgAll/A043_v5_T2W_seg.nii.gz\n",
      "2024-03-31 19:53:03,885 INFO image_writer.py:194 - writing: outMR12wtAvgAll/A046_v1_T2W_seg.nii.gz\n",
      "2024-03-31 19:53:38,202 INFO image_writer.py:194 - writing: outMR12wtAvgAll/A046_v2_T2W_seg.nii.gz\n",
      "2024-03-31 19:54:12,531 INFO image_writer.py:194 - writing: outMR12wtAvgAll/A047_v1_T2W_seg.nii.gz\n",
      "2024-03-31 19:54:46,880 INFO image_writer.py:194 - writing: outMR12wtAvgAll/A047_v2_T2W_seg.nii.gz\n",
      "2024-03-31 19:55:21,220 INFO image_writer.py:194 - writing: outMR12wtAvgAll/A048_v1_T2W_seg.nii.gz\n",
      "2024-03-31 19:55:55,567 INFO image_writer.py:194 - writing: outMR12wtAvgAll/A048_v2_T2W_seg.nii.gz\n",
      "2024-03-31 19:56:29,923 INFO image_writer.py:194 - writing: outMR12wtAvgAll/A049_v1_T2W_seg.nii.gz\n",
      "2024-03-31 19:57:04,264 INFO image_writer.py:194 - writing: outMR12wtAvgAll/A049_v2_T2W_seg.nii.gz\n",
      "2024-03-31 19:57:38,610 INFO image_writer.py:194 - writing: outMR12wtAvgAll/A050_v1_T2W_seg.nii.gz\n",
      "2024-03-31 19:58:12,955 INFO image_writer.py:194 - writing: outMR12wtAvgAll/A050_v2_T2W_seg.nii.gz\n",
      "2024-03-31 19:58:47,300 INFO image_writer.py:194 - writing: outMR12wtAvgAll/A051_v1_T2W_seg.nii.gz\n",
      "2024-03-31 19:59:21,652 INFO image_writer.py:194 - writing: outMR12wtAvgAll/A051_v2_T2W_seg.nii.gz\n",
      "2024-03-31 20:01:20,692 INFO image_writer.py:194 - writing: outMR12wtAvgAll/A052_v1_T2W_seg.nii.gz\n",
      "2024-03-31 20:03:19,731 INFO image_writer.py:194 - writing: outMR12wtAvgAll/A052_v2_T2W_seg.nii.gz\n",
      "2024-03-31 20:03:54,095 INFO image_writer.py:194 - writing: outMR12wtAvgAll/A055_v1_T2W_seg.nii.gz\n",
      "2024-03-31 20:04:28,499 INFO image_writer.py:194 - writing: outMR12wtAvgAll/A055_v2_T2W_seg.nii.gz\n",
      "2024-03-31 20:05:02,864 INFO image_writer.py:194 - writing: outMR12wtAvgAll/A056_v1_T2W_seg.nii.gz\n",
      "2024-03-31 20:05:37,219 INFO image_writer.py:194 - writing: outMR12wtAvgAll/A056_v2_T2W_seg.nii.gz\n",
      "2024-03-31 20:06:11,586 INFO image_writer.py:194 - writing: outMR12wtAvgAll/A057_v1_T2W_seg.nii.gz\n",
      "2024-03-31 20:06:45,940 INFO image_writer.py:194 - writing: outMR12wtAvgAll/A057_v2_T2W_seg.nii.gz\n",
      "2024-03-31 20:08:44,976 INFO image_writer.py:194 - writing: outMR12wtAvgAll/A061_v1_T2W_seg.nii.gz\n",
      "2024-03-31 20:10:43,988 INFO image_writer.py:194 - writing: outMR12wtAvgAll/A061_v2_T2W_seg.nii.gz\n",
      "2024-03-31 20:11:12,708 INFO image_writer.py:194 - writing: outMR12wtAvgAll/A062_v1_T2W_seg.nii.gz\n",
      "2024-03-31 20:11:41,432 INFO image_writer.py:194 - writing: outMR12wtAvgAll/A062_v2_T2W_seg.nii.gz\n",
      "2024-03-31 20:12:15,770 INFO image_writer.py:194 - writing: outMR12wtAvgAll/A063_v1_T2W_seg.nii.gz\n",
      "2024-03-31 20:12:50,116 INFO image_writer.py:194 - writing: outMR12wtAvgAll/A063_v2_T2W_seg.nii.gz\n",
      "2024-03-31 20:13:24,469 INFO image_writer.py:194 - writing: outMR12wtAvgAll/A064_v1_T2W_seg.nii.gz\n",
      "2024-03-31 20:13:58,816 INFO image_writer.py:194 - writing: outMR12wtAvgAll/A064_v2_T2W_seg.nii.gz\n",
      "2024-03-31 20:14:33,173 INFO image_writer.py:194 - writing: outMR12wtAvgAll/A066_v1_T2W_seg.nii.gz\n",
      "2024-03-31 20:15:07,507 INFO image_writer.py:194 - writing: outMR12wtAvgAll/A066_v2_T2W_seg.nii.gz\n",
      "2024-03-31 20:15:41,866 INFO image_writer.py:194 - writing: outMR12wtAvgAll/A067_v1_T2W_seg.nii.gz\n",
      "2024-03-31 20:16:16,214 INFO image_writer.py:194 - writing: outMR12wtAvgAll/A067_v2_T2W_seg.nii.gz\n",
      "2024-03-31 20:16:42,140 INFO image_writer.py:194 - writing: outMR12wtAvgAll/A068_v1_T2W_seg.nii.gz\n",
      "2024-03-31 20:17:10,837 INFO image_writer.py:194 - writing: outMR12wtAvgAll/A068_v2_T2W_seg.nii.gz\n",
      "2024-03-31 20:18:50,144 INFO image_writer.py:194 - writing: outMR12wtAvgAll/A071_v1_T2W_seg.nii.gz\n",
      "2024-03-31 20:20:29,422 INFO image_writer.py:194 - writing: outMR12wtAvgAll/A071_v2_T2W_seg.nii.gz\n",
      "2024-03-31 20:22:08,733 INFO image_writer.py:194 - writing: outMR12wtAvgAll/A074_v1_T2W_seg.nii.gz\n"
     ]
    },
    {
     "name": "stdout",
     "output_type": "stream",
     "text": [
      "2024-03-31 20:24:07,697 INFO image_writer.py:194 - writing: outMR12wtAvgAll/A074_v2_T2W_seg.nii.gz\n",
      "2024-03-31 20:24:36,421 INFO image_writer.py:194 - writing: outMR12wtAvgAll/A076_v1_T2W_seg.nii.gz\n",
      "2024-03-31 20:25:10,745 INFO image_writer.py:194 - writing: outMR12wtAvgAll/A076_v2_T2W_seg.nii.gz\n",
      "INFO:ignite.engine.engine.EnsembleEvaluator:Epoch[1] Complete. Time taken: 01:40:39\n",
      "INFO:ignite.engine.engine.EnsembleEvaluator:Engine run complete. Time taken: 01:40:39\n"
     ]
    }
   ],
   "source": [
    "mean_post_transforms = Compose(\n",
    "    [\n",
    "        EnsureTyped(keys=[\"pred0\", \"pred1\", \"pred2\", \"pred3\", \"pred4\"]),\n",
    "        MeanEnsembled(\n",
    "            keys=[\"pred0\", \"pred1\", \"pred2\", \"pred3\", \"pred4\"],\n",
    "            output_key=\"pred\",\n",
    "            # in this particular example, we use validation metrics as weights\n",
    "            weights=[0.9046, 0.8481, 0.9146, 0.8548, 0.9045],\n",
    "        ),\n",
    "        Invertd(\n",
    "        keys=\"pred\",\n",
    "        transform=test_org_transforms,\n",
    "        orig_keys=\"image\",\n",
    "        meta_keys=\"pred_meta_dict\",\n",
    "        orig_meta_keys=\"image_meta_dict\",\n",
    "        meta_key_postfix=\"meta_dict\",\n",
    "        nearest_interp=False,\n",
    "        to_tensor=True,\n",
    "        ),\n",
    "        AsDiscreted(keys=\"pred\", argmax=True, to_onehot=6),\n",
    "        SaveImaged(keys=\"pred\", meta_keys=\"pred_meta_dict\", output_dir=\"./outMR12wtAvgAll\", output_postfix=\"seg\", resample=False, separate_folder=False),\n",
    "    ]\n",
    ")\n",
    "ensemble_inference(mean_post_transforms, models)"
   ]
  },
  {
   "cell_type": "code",
   "execution_count": 13,
   "id": "b6544add",
   "metadata": {},
   "outputs": [],
   "source": [
    "# vote_post_transforms = Compose(\n",
    "#     [\n",
    "#         EnsureTyped(keys=[\"pred0\", \"pred1\", \"pred2\", \"pred3\", \"pred4\"]),\n",
    "#         Activationsd(keys=[\"pred0\", \"pred1\", \"pred2\", \"pred3\", \"pred4\"], sigmoid=True),\n",
    "#         # transform data into discrete before voting\n",
    "#         AsDiscreted(keys=[\"pred0\", \"pred1\", \"pred2\", \"pred3\", \"pred4\"], argmax=True, to_onehot=6),\n",
    "#         VoteEnsembled(keys=[\"pred0\", \"pred1\", \"pred2\", \"pred3\", \"pred4\"], \n",
    "#                       output_key=\"pred\"),\n",
    "#         Invertd(\n",
    "#         keys=\"pred\",\n",
    "#         transform=test_org_transforms,\n",
    "#         orig_keys=\"image\",\n",
    "#         meta_keys=\"pred_meta_dict\",\n",
    "#         orig_meta_keys=\"image_meta_dict\",\n",
    "#         meta_key_postfix=\"meta_dict\",\n",
    "#         nearest_interp=False,\n",
    "#         to_tensor=True,\n",
    "#         ),\n",
    "#         AsDiscreted(keys=\"pred\", argmax=True, to_onehot=6),\n",
    "#         SaveImaged(keys=\"pred\", meta_keys=\"pred_meta_dict\", output_dir=\"./outMR12voteAll\", output_postfix=\"seg\", resample=False, separate_folder=False),\n",
    "#     ]\n",
    "# )\n",
    "# ensemble_inference(vote_post_transforms, models)"
   ]
  },
  {
   "cell_type": "code",
   "execution_count": 14,
   "id": "c91f7b2f",
   "metadata": {},
   "outputs": [
    {
     "name": "stdout",
     "output_type": "stream",
     "text": [
      "outMR12wtAvgAll/\n",
      "outMR12wtAvgAll/A026_v1_T2W_seg.nii.gz\n",
      "outMR12wtAvgAll/A011_v2_T2W_seg.nii.gz\n",
      "outMR12wtAvgAll/A003_v1_T2W_seg.nii.gz\n",
      "outMR12wtAvgAll/A034_v1_T2W_seg.nii.gz\n",
      "outMR12wtAvgAll/A017_v1_T2W_seg.nii.gz\n",
      "outMR12wtAvgAll/A057_v2_T2W_seg.nii.gz\n",
      "outMR12wtAvgAll/A031_v1_T2W_seg.nii.gz\n",
      "outMR12wtAvgAll/A033_v3_T2W_seg.nii.gz\n",
      "outMR12wtAvgAll/A011_v1_T2W_seg.nii.gz\n",
      "outMR12wtAvgAll/A071_v2_T2W_seg.nii.gz\n",
      "outMR12wtAvgAll/A048_v2_T2W_seg.nii.gz\n",
      "outMR12wtAvgAll/A028_v1_T2W_seg.nii.gz\n",
      "outMR12wtAvgAll/A068_v1_T2W_seg.nii.gz\n",
      "outMR12wtAvgAll/A032_v2_T2W_seg.nii.gz\n",
      "outMR12wtAvgAll/A071_v1_T2W_seg.nii.gz\n",
      "outMR12wtAvgAll/A049_v1_T2W_seg.nii.gz\n",
      "outMR12wtAvgAll/A061_v2_T2W_seg.nii.gz\n",
      "outMR12wtAvgAll/A026_v2_T2W_seg.nii.gz\n",
      "outMR12wtAvgAll/A043_v2_T2W_seg.nii.gz\n",
      "outMR12wtAvgAll/A050_v1_T2W_seg.nii.gz\n",
      "outMR12wtAvgAll/A063_v1_T2W_seg.nii.gz\n",
      "outMR12wtAvgAll/A046_v2_T2W_seg.nii.gz\n",
      "outMR12wtAvgAll/A041_v2_T2W_seg.nii.gz\n",
      "outMR12wtAvgAll/A003_v2_T2W_seg.nii.gz\n",
      "outMR12wtAvgAll/A033_v1_T2W_seg.nii.gz\n",
      "outMR12wtAvgAll/A043_v5_T2W_seg.nii.gz\n",
      "outMR12wtAvgAll/A014_v2_T2W_seg.nii.gz\n",
      "outMR12wtAvgAll/A066_v2_T2W_seg.nii.gz\n",
      "outMR12wtAvgAll/A051_v2_T2W_seg.nii.gz\n",
      "outMR12wtAvgAll/A029_v1_T2W_seg.nii.gz\n",
      "outMR12wtAvgAll/A068_v2_T2W_seg.nii.gz\n",
      "outMR12wtAvgAll/A013_v2_T2W_seg.nii.gz\n",
      "outMR12wtAvgAll/A051_v1_T2W_seg.nii.gz\n",
      "outMR12wtAvgAll/A030_v1_T2W_seg.nii.gz\n",
      "outMR12wtAvgAll/A067_v2_T2W_seg.nii.gz\n",
      "outMR12wtAvgAll/A064_v1_T2W_seg.nii.gz\n",
      "outMR12wtAvgAll/A014_v1_T2W_seg.nii.gz\n",
      "outMR12wtAvgAll/A021_v2_T2W_seg.nii.gz\n",
      "outMR12wtAvgAll/A039_v1_T2W_seg.nii.gz\n",
      "outMR12wtAvgAll/A036_v1_T2W_seg.nii.gz\n",
      "outMR12wtAvgAll/A033_v2_T2W_seg.nii.gz\n",
      "outMR12wtAvgAll/A055_v1_T2W_seg.nii.gz\n",
      "outMR12wtAvgAll/A038_v2_T2W_seg.nii.gz\n",
      "outMR12wtAvgAll/A063_v2_T2W_seg.nii.gz\n",
      "outMR12wtAvgAll/A030_v2_T2W_seg.nii.gz\n",
      "outMR12wtAvgAll/A016_v2_T2W_seg.nii.gz\n",
      "outMR12wtAvgAll/A046_v1_T2W_seg.nii.gz\n",
      "outMR12wtAvgAll/A047_v2_T2W_seg.nii.gz\n",
      "outMR12wtAvgAll/A040_v2_T2W_seg.nii.gz\n",
      "outMR12wtAvgAll/A067_v1_T2W_seg.nii.gz\n",
      "outMR12wtAvgAll/A039_v2_T2W_seg.nii.gz\n",
      "outMR12wtAvgAll/A043_v1_T2W_seg.nii.gz\n",
      "outMR12wtAvgAll/A048_v1_T2W_seg.nii.gz\n",
      "outMR12wtAvgAll/A022_v2_T2W_seg.nii.gz\n",
      "outMR12wtAvgAll/A040_v1_T2W_seg.nii.gz\n",
      "outMR12wtAvgAll/A038_v1_T2W_seg.nii.gz\n",
      "outMR12wtAvgAll/A066_v1_T2W_seg.nii.gz\n",
      "outMR12wtAvgAll/A052_v2_T2W_seg.nii.gz\n",
      "outMR12wtAvgAll/A029_v2_T2W_seg.nii.gz\n",
      "outMR12wtAvgAll/A036_v2_T2W_seg.nii.gz\n",
      "outMR12wtAvgAll/A074_v2_T2W_seg.nii.gz\n",
      "outMR12wtAvgAll/A009_v1_T2W_seg.nii.gz\n",
      "outMR12wtAvgAll/A009_v2_T2W_seg.nii.gz\n",
      "outMR12wtAvgAll/A024_v2_T2W_seg.nii.gz\n",
      "outMR12wtAvgAll/A028_v2_T2W_seg.nii.gz\n",
      "outMR12wtAvgAll/A022_v1_T2W_seg.nii.gz\n",
      "outMR12wtAvgAll/A062_v1_T2W_seg.nii.gz\n",
      "outMR12wtAvgAll/A061_v1_T2W_seg.nii.gz\n",
      "outMR12wtAvgAll/A055_v2_T2W_seg.nii.gz\n",
      "outMR12wtAvgAll/A023_v1_T2W_seg.nii.gz\n",
      "outMR12wtAvgAll/A076_v2_T2W_seg.nii.gz\n",
      "outMR12wtAvgAll/A032_v1_T2W_seg.nii.gz\n",
      "outMR12wtAvgAll/A029_v3_T2W_seg.nii.gz\n",
      "outMR12wtAvgAll/A023_v2_T2W_seg.nii.gz\n",
      "outMR12wtAvgAll/A056_v1_T2W_seg.nii.gz\n",
      "outMR12wtAvgAll/A016_v1_T2W_seg.nii.gz\n",
      "outMR12wtAvgAll/A034_v2_T2W_seg.nii.gz\n",
      "outMR12wtAvgAll/A021_v1_T2W_seg.nii.gz\n",
      "outMR12wtAvgAll/A041_v1_T2W_seg.nii.gz\n",
      "outMR12wtAvgAll/A015_v2_T2W_seg.nii.gz\n",
      "outMR12wtAvgAll/A064_v2_T2W_seg.nii.gz\n",
      "outMR12wtAvgAll/A049_v2_T2W_seg.nii.gz\n",
      "outMR12wtAvgAll/A024_v1_T2W_seg.nii.gz\n",
      "outMR12wtAvgAll/A018_v1_T2W_seg.nii.gz\n",
      "outMR12wtAvgAll/A002_v3_T2W_seg.nii.gz\n",
      "outMR12wtAvgAll/A057_v1_T2W_seg.nii.gz\n",
      "outMR12wtAvgAll/A029_v4_T2W_seg.nii.gz\n",
      "outMR12wtAvgAll/A037_v2_T2W_seg.nii.gz\n",
      "outMR12wtAvgAll/A033_v4_T2W_seg.nii.gz\n",
      "outMR12wtAvgAll/A076_v1_T2W_seg.nii.gz\n",
      "outMR12wtAvgAll/A047_v1_T2W_seg.nii.gz\n",
      "outMR12wtAvgAll/A031_v2_T2W_seg.nii.gz\n",
      "outMR12wtAvgAll/A056_v2_T2W_seg.nii.gz\n",
      "outMR12wtAvgAll/A002_v2_T2W_seg.nii.gz\n",
      "outMR12wtAvgAll/A002_v1_T2W_seg.nii.gz\n",
      "outMR12wtAvgAll/A017_v2_T2W_seg.nii.gz\n",
      "outMR12wtAvgAll/A018_v2_T2W_seg.nii.gz\n",
      "outMR12wtAvgAll/A013_v1_T2W_seg.nii.gz\n",
      "outMR12wtAvgAll/A015_v1_T2W_seg.nii.gz\n",
      "outMR12wtAvgAll/A062_v2_T2W_seg.nii.gz\n",
      "outMR12wtAvgAll/A037_v1_T2W_seg.nii.gz\n",
      "outMR12wtAvgAll/A074_v1_T2W_seg.nii.gz\n",
      "outMR12wtAvgAll/A052_v1_T2W_seg.nii.gz\n",
      "outMR12wtAvgAll/A050_v2_T2W_seg.nii.gz\n"
     ]
    }
   ],
   "source": [
    "!tar -cvzf outMR12wtAvgAll.tar.gz outMR12wtAvgAll"
   ]
  },
  {
   "cell_type": "code",
   "execution_count": 15,
   "id": "3e2ba994",
   "metadata": {},
   "outputs": [],
   "source": [
    "# !tar -cvzf outMR12voteAll.tar.gz outMR12voteAll"
   ]
  },
  {
   "cell_type": "code",
   "execution_count": null,
   "id": "ae35be8f",
   "metadata": {},
   "outputs": [],
   "source": []
  }
 ],
 "metadata": {
  "kernelspec": {
   "display_name": "Python 3 (ipykernel)",
   "language": "python",
   "name": "python3"
  },
  "language_info": {
   "codemirror_mode": {
    "name": "ipython",
    "version": 3
   },
   "file_extension": ".py",
   "mimetype": "text/x-python",
   "name": "python",
   "nbconvert_exporter": "python",
   "pygments_lexer": "ipython3",
   "version": "3.9.13"
  }
 },
 "nbformat": 4,
 "nbformat_minor": 5
}
