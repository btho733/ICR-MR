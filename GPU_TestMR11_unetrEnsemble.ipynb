{
 "cells": [
  {
   "cell_type": "markdown",
   "id": "de4a0959",
   "metadata": {},
   "source": [
    "## Cross-validation and Ensembling 5 UNETR folds trained and saved as 5 separate model files"
   ]
  },
  {
   "cell_type": "code",
   "execution_count": 1,
   "id": "323028e0",
   "metadata": {},
   "outputs": [
    {
     "data": {
      "text/html": [
       "<style>.container { width:100% !important; }</style>"
      ],
      "text/plain": [
       "<IPython.core.display.HTML object>"
      ]
     },
     "metadata": {},
     "output_type": "display_data"
    }
   ],
   "source": [
    "from IPython.display import display, HTML\n",
    "display(HTML(\"<style>.container { width:100% !important; }</style>\"))"
   ]
  },
  {
   "cell_type": "code",
   "execution_count": 2,
   "id": "36308bf7",
   "metadata": {},
   "outputs": [],
   "source": [
    "# !python -c \"import monai\" || pip install -q \"monai-weekly[ignite, nibabel, tqdm]\"\n",
    "!pip install -q \"monai-weekly[nibabel, tqdm, einops]\"\n",
    "!python -c \"import matplotlib\" || pip install -q matplotlib\n",
    "%matplotlib inline"
   ]
  },
  {
   "cell_type": "code",
   "execution_count": 3,
   "id": "6267cb18",
   "metadata": {},
   "outputs": [
    {
     "name": "stdout",
     "output_type": "stream",
     "text": [
      "MONAI version: 0.10.dev2231\n",
      "Numpy version: 1.23.1\n",
      "Pytorch version: 1.12.0+cu102\n",
      "MONAI flags: HAS_EXT = False, USE_COMPILED = False, USE_META_DICT = False\n",
      "MONAI rev id: 8236821c099e5997f7ad0410c5374e4472f4ed14\n",
      "MONAI __file__: /home/adminbthomas/miniconda3/envs/PT02/lib/python3.9/site-packages/monai/__init__.py\n",
      "\n",
      "Optional dependencies:\n",
      "Pytorch Ignite version: 0.4.9\n",
      "Nibabel version: 4.0.1\n",
      "scikit-image version: 0.19.3\n",
      "Pillow version: 9.2.0\n",
      "Tensorboard version: 2.9.1\n",
      "gdown version: 4.5.1\n",
      "TorchVision version: 0.13.0+cu102\n",
      "tqdm version: 4.64.0\n",
      "lmdb version: 1.3.0\n",
      "psutil version: 5.9.1\n",
      "pandas version: 1.4.3\n",
      "einops version: 0.4.1\n",
      "transformers version: 4.20.1\n",
      "mlflow version: 1.27.0\n",
      "pynrrd version: NOT INSTALLED or UNKNOWN VERSION.\n",
      "\n",
      "For details about installing the optional dependencies, please visit:\n",
      "    https://docs.monai.io/en/latest/installation.html#installing-the-recommended-dependencies\n",
      "\n"
     ]
    }
   ],
   "source": [
    "from abc import ABC, abstractmethod\n",
    "import logging\n",
    "import os\n",
    "import tempfile\n",
    "import shutil\n",
    "import sys\n",
    "\n",
    "import nibabel as nib\n",
    "import numpy as np\n",
    "import torch\n",
    "\n",
    "from monai.apps import CrossValidation\n",
    "from monai.config import print_config\n",
    "from monai.data import CacheDataset, DataLoader, create_test_image_3d\n",
    "from monai.engines import EnsembleEvaluator, SupervisedEvaluator, SupervisedTrainer\n",
    "from monai.handlers import MeanDice, StatsHandler, ValidationHandler, from_engine\n",
    "from monai.inferers import SimpleInferer, SlidingWindowInferer\n",
    "from monai.losses import DiceLoss\n",
    "from monai.networks.nets import UNet, SwinUNETR, UNETR\n",
    "from monai.metrics import DiceMetric\n",
    "\n",
    "from monai.transforms import (\n",
    "    Activationsd,\n",
    "    EnsureChannelFirstd,\n",
    "    AsDiscreted,\n",
    "    Compose,\n",
    "    LoadImaged,\n",
    "    MeanEnsembled,\n",
    "    RandCropByPosNegLabeld,\n",
    "    RandRotate90d,\n",
    "    ScaleIntensityd,\n",
    "    EnsureTyped,\n",
    "    VoteEnsembled,\n",
    ")\n",
    "from monai.utils import set_determinism\n",
    "\n",
    "print_config()"
   ]
  },
  {
   "cell_type": "code",
   "execution_count": 4,
   "id": "dd09c86a",
   "metadata": {},
   "outputs": [
    {
     "name": "stdout",
     "output_type": "stream",
     "text": [
      "/home/adminbthomas/Downloads/ensemble\n"
     ]
    }
   ],
   "source": [
    "root_dir = \"/home/adminbthomas/Downloads/ensemble\"\n",
    "print(root_dir)"
   ]
  },
  {
   "cell_type": "code",
   "execution_count": 5,
   "id": "490df5d6",
   "metadata": {},
   "outputs": [],
   "source": [
    "set_determinism(seed=0)\n",
    "logging.basicConfig(stream=sys.stdout, level=logging.INFO)\n",
    "device = torch.device(\"cuda:0\")"
   ]
  },
  {
   "cell_type": "code",
   "execution_count": 6,
   "id": "351fd70a",
   "metadata": {},
   "outputs": [],
   "source": [
    "model_dir = os.path.join(root_dir,\"unetr/\")"
   ]
  },
  {
   "cell_type": "code",
   "execution_count": 7,
   "id": "87bfa40e",
   "metadata": {},
   "outputs": [],
   "source": [
    "models=[]"
   ]
  },
  {
   "cell_type": "code",
   "execution_count": 8,
   "id": "6ea9794d",
   "metadata": {},
   "outputs": [
    {
     "name": "stdout",
     "output_type": "stream",
     "text": [
      "Appending Fold0\n",
      "Appending Fold1\n",
      "Appending Fold2\n",
      "Appending Fold3\n",
      "Appending Fold4\n"
     ]
    }
   ],
   "source": [
    "for i in range(5):\n",
    "    model = UNETR(\n",
    "        in_channels=1,\n",
    "        out_channels=6,\n",
    "        img_size=(96, 96, 16),\n",
    "        feature_size=16,\n",
    "        hidden_size=768,\n",
    "        mlp_dim=3072,\n",
    "        num_heads=12,\n",
    "        pos_embed=\"perceptron\",\n",
    "        norm_name=\"instance\",\n",
    "        res_block=True,\n",
    "        dropout_rate=0.0,\n",
    "        ).to(device)\n",
    "    model.load_state_dict(torch.load(os.path.join(model_dir, f\"TestMR09_unetrensemble_fold{i}.pth\")))\n",
    "    print(f'Appending Fold{i}')\n",
    "    model.eval()\n",
    "    models.append(model)"
   ]
  },
  {
   "cell_type": "code",
   "execution_count": 9,
   "id": "89d00570",
   "metadata": {},
   "outputs": [],
   "source": [
    "import glob\n",
    "from monai.data import Dataset\n",
    "from monai.handlers.utils import from_engine\n",
    "from monai.transforms import (\n",
    "    AsDiscrete,\n",
    "    AsDiscreted,\n",
    "    EnsureChannelFirstd,\n",
    "    Compose,\n",
    "    CropForegroundd,\n",
    "    LoadImaged,\n",
    "    Orientationd,\n",
    "    RandCropByPosNegLabeld,\n",
    "    SaveImaged,\n",
    "    ScaleIntensityRanged,\n",
    "    Spacingd,\n",
    "    SplitChanneld,\n",
    "    EnsureTyped,\n",
    "    EnsureType,\n",
    "    Invertd,\n",
    ")\n",
    "\n",
    "test_images = sorted(\n",
    "    glob.glob(os.path.join(root_dir, \"data/imagesTs\", \"*T2W.nii.gz\")))\n",
    "# test_labels = sorted(\n",
    "#     glob.glob(os.path.join(data_dir, \"data/imagesTs/outs_binarised/\", \"seg*.nii.gz\")))\n",
    "\n",
    "# test_data = [{\"image\": image,\"label\": label} for image,label in zip(test_images, test_labels)]\n",
    "test_data = [{\"image\": image} for image in test_images]\n",
    "\n",
    "test_org_transforms = Compose(\n",
    "    [\n",
    "        LoadImaged(keys=\"image\"),\n",
    "        EnsureChannelFirstd(keys=\"image\"),\n",
    "        Orientationd(keys=[\"image\"], axcodes=\"RAS\"),\n",
    "        Spacingd(keys=[\"image\"], pixdim=(\n",
    "            1.5, 1.5, 4.0), mode=\"bilinear\"),\n",
    "        ScaleIntensityRanged(\n",
    "            keys=[\"image\"], a_min=0, a_max=250,\n",
    "            b_min=0.0, b_max=1.0, clip=False,\n",
    "        ),\n",
    "        CropForegroundd(keys=[\"image\"], source_key=\"image\"),\n",
    "        EnsureTyped(keys=\"image\"),\n",
    "    ]\n",
    ")\n",
    "\n",
    "test_org_ds = Dataset(\n",
    "    data=test_data, transform=test_org_transforms)\n",
    "\n",
    "test_loader = DataLoader(test_org_ds, batch_size=1, num_workers=4)"
   ]
  },
  {
   "cell_type": "code",
   "execution_count": 10,
   "id": "491b38bb",
   "metadata": {},
   "outputs": [
    {
     "data": {
      "text/plain": [
       "[{'image': '/home/adminbthomas/Downloads/ensemble/data/imagesTs/A002_v1_T2W.nii.gz'},\n",
       " {'image': '/home/adminbthomas/Downloads/ensemble/data/imagesTs/A002_v2_T2W.nii.gz'},\n",
       " {'image': '/home/adminbthomas/Downloads/ensemble/data/imagesTs/A002_v3_T2W.nii.gz'},\n",
       " {'image': '/home/adminbthomas/Downloads/ensemble/data/imagesTs/A003_v1_T2W.nii.gz'},\n",
       " {'image': '/home/adminbthomas/Downloads/ensemble/data/imagesTs/A003_v2_T2W.nii.gz'},\n",
       " {'image': '/home/adminbthomas/Downloads/ensemble/data/imagesTs/A009_v1_T2W.nii.gz'},\n",
       " {'image': '/home/adminbthomas/Downloads/ensemble/data/imagesTs/A009_v2_T2W.nii.gz'},\n",
       " {'image': '/home/adminbthomas/Downloads/ensemble/data/imagesTs/A011_v1_T2W.nii.gz'},\n",
       " {'image': '/home/adminbthomas/Downloads/ensemble/data/imagesTs/A011_v2_T2W.nii.gz'},\n",
       " {'image': '/home/adminbthomas/Downloads/ensemble/data/imagesTs/A013_v1_T2W.nii.gz'},\n",
       " {'image': '/home/adminbthomas/Downloads/ensemble/data/imagesTs/A013_v2_T2W.nii.gz'},\n",
       " {'image': '/home/adminbthomas/Downloads/ensemble/data/imagesTs/A014_v1_T2W.nii.gz'},\n",
       " {'image': '/home/adminbthomas/Downloads/ensemble/data/imagesTs/A014_v2_T2W.nii.gz'},\n",
       " {'image': '/home/adminbthomas/Downloads/ensemble/data/imagesTs/A015_v1_T2W.nii.gz'},\n",
       " {'image': '/home/adminbthomas/Downloads/ensemble/data/imagesTs/A015_v2_T2W.nii.gz'},\n",
       " {'image': '/home/adminbthomas/Downloads/ensemble/data/imagesTs/A016_v1_T2W.nii.gz'},\n",
       " {'image': '/home/adminbthomas/Downloads/ensemble/data/imagesTs/A016_v2_T2W.nii.gz'},\n",
       " {'image': '/home/adminbthomas/Downloads/ensemble/data/imagesTs/A017_v1_T2W.nii.gz'},\n",
       " {'image': '/home/adminbthomas/Downloads/ensemble/data/imagesTs/A017_v2_T2W.nii.gz'},\n",
       " {'image': '/home/adminbthomas/Downloads/ensemble/data/imagesTs/A018_v1_T2W.nii.gz'},\n",
       " {'image': '/home/adminbthomas/Downloads/ensemble/data/imagesTs/A018_v2_T2W.nii.gz'},\n",
       " {'image': '/home/adminbthomas/Downloads/ensemble/data/imagesTs/A021_v1_T2W.nii.gz'},\n",
       " {'image': '/home/adminbthomas/Downloads/ensemble/data/imagesTs/A021_v2_T2W.nii.gz'},\n",
       " {'image': '/home/adminbthomas/Downloads/ensemble/data/imagesTs/A022_v1_T2W.nii.gz'},\n",
       " {'image': '/home/adminbthomas/Downloads/ensemble/data/imagesTs/A022_v2_T2W.nii.gz'},\n",
       " {'image': '/home/adminbthomas/Downloads/ensemble/data/imagesTs/A023_v1_T2W.nii.gz'},\n",
       " {'image': '/home/adminbthomas/Downloads/ensemble/data/imagesTs/A023_v2_T2W.nii.gz'},\n",
       " {'image': '/home/adminbthomas/Downloads/ensemble/data/imagesTs/A024_v1_T2W.nii.gz'},\n",
       " {'image': '/home/adminbthomas/Downloads/ensemble/data/imagesTs/A024_v2_T2W.nii.gz'},\n",
       " {'image': '/home/adminbthomas/Downloads/ensemble/data/imagesTs/A026_v1_T2W.nii.gz'},\n",
       " {'image': '/home/adminbthomas/Downloads/ensemble/data/imagesTs/A026_v2_T2W.nii.gz'},\n",
       " {'image': '/home/adminbthomas/Downloads/ensemble/data/imagesTs/A028_v1_T2W.nii.gz'},\n",
       " {'image': '/home/adminbthomas/Downloads/ensemble/data/imagesTs/A028_v2_T2W.nii.gz'},\n",
       " {'image': '/home/adminbthomas/Downloads/ensemble/data/imagesTs/A029_v1_T2W.nii.gz'},\n",
       " {'image': '/home/adminbthomas/Downloads/ensemble/data/imagesTs/A029_v2_T2W.nii.gz'},\n",
       " {'image': '/home/adminbthomas/Downloads/ensemble/data/imagesTs/A029_v3_T2W.nii.gz'},\n",
       " {'image': '/home/adminbthomas/Downloads/ensemble/data/imagesTs/A029_v4_T2W.nii.gz'},\n",
       " {'image': '/home/adminbthomas/Downloads/ensemble/data/imagesTs/A030_v1_T2W.nii.gz'},\n",
       " {'image': '/home/adminbthomas/Downloads/ensemble/data/imagesTs/A030_v2_T2W.nii.gz'},\n",
       " {'image': '/home/adminbthomas/Downloads/ensemble/data/imagesTs/A031_v1_T2W.nii.gz'},\n",
       " {'image': '/home/adminbthomas/Downloads/ensemble/data/imagesTs/A031_v2_T2W.nii.gz'},\n",
       " {'image': '/home/adminbthomas/Downloads/ensemble/data/imagesTs/A032_v1_T2W.nii.gz'},\n",
       " {'image': '/home/adminbthomas/Downloads/ensemble/data/imagesTs/A032_v2_T2W.nii.gz'},\n",
       " {'image': '/home/adminbthomas/Downloads/ensemble/data/imagesTs/A033_v1_T2W.nii.gz'},\n",
       " {'image': '/home/adminbthomas/Downloads/ensemble/data/imagesTs/A033_v2_T2W.nii.gz'},\n",
       " {'image': '/home/adminbthomas/Downloads/ensemble/data/imagesTs/A033_v3_T2W.nii.gz'},\n",
       " {'image': '/home/adminbthomas/Downloads/ensemble/data/imagesTs/A033_v4_T2W.nii.gz'},\n",
       " {'image': '/home/adminbthomas/Downloads/ensemble/data/imagesTs/A034_v1_T2W.nii.gz'},\n",
       " {'image': '/home/adminbthomas/Downloads/ensemble/data/imagesTs/A034_v2_T2W.nii.gz'},\n",
       " {'image': '/home/adminbthomas/Downloads/ensemble/data/imagesTs/A036_v1_T2W.nii.gz'},\n",
       " {'image': '/home/adminbthomas/Downloads/ensemble/data/imagesTs/A036_v2_T2W.nii.gz'},\n",
       " {'image': '/home/adminbthomas/Downloads/ensemble/data/imagesTs/A037_v1_T2W.nii.gz'},\n",
       " {'image': '/home/adminbthomas/Downloads/ensemble/data/imagesTs/A037_v2_T2W.nii.gz'},\n",
       " {'image': '/home/adminbthomas/Downloads/ensemble/data/imagesTs/A038_v1_T2W.nii.gz'},\n",
       " {'image': '/home/adminbthomas/Downloads/ensemble/data/imagesTs/A038_v2_T2W.nii.gz'},\n",
       " {'image': '/home/adminbthomas/Downloads/ensemble/data/imagesTs/A039_v1_T2W.nii.gz'},\n",
       " {'image': '/home/adminbthomas/Downloads/ensemble/data/imagesTs/A039_v2_T2W.nii.gz'},\n",
       " {'image': '/home/adminbthomas/Downloads/ensemble/data/imagesTs/A040_v1_T2W.nii.gz'},\n",
       " {'image': '/home/adminbthomas/Downloads/ensemble/data/imagesTs/A040_v2_T2W.nii.gz'},\n",
       " {'image': '/home/adminbthomas/Downloads/ensemble/data/imagesTs/A041_v1_T2W.nii.gz'},\n",
       " {'image': '/home/adminbthomas/Downloads/ensemble/data/imagesTs/A041_v2_T2W.nii.gz'},\n",
       " {'image': '/home/adminbthomas/Downloads/ensemble/data/imagesTs/A043_v1_T2W.nii.gz'},\n",
       " {'image': '/home/adminbthomas/Downloads/ensemble/data/imagesTs/A043_v2_T2W.nii.gz'},\n",
       " {'image': '/home/adminbthomas/Downloads/ensemble/data/imagesTs/A043_v5_T2W.nii.gz'},\n",
       " {'image': '/home/adminbthomas/Downloads/ensemble/data/imagesTs/A046_v1_T2W.nii.gz'},\n",
       " {'image': '/home/adminbthomas/Downloads/ensemble/data/imagesTs/A046_v2_T2W.nii.gz'},\n",
       " {'image': '/home/adminbthomas/Downloads/ensemble/data/imagesTs/A047_v1_T2W.nii.gz'},\n",
       " {'image': '/home/adminbthomas/Downloads/ensemble/data/imagesTs/A047_v2_T2W.nii.gz'},\n",
       " {'image': '/home/adminbthomas/Downloads/ensemble/data/imagesTs/A048_v1_T2W.nii.gz'},\n",
       " {'image': '/home/adminbthomas/Downloads/ensemble/data/imagesTs/A048_v2_T2W.nii.gz'},\n",
       " {'image': '/home/adminbthomas/Downloads/ensemble/data/imagesTs/A049_v1_T2W.nii.gz'},\n",
       " {'image': '/home/adminbthomas/Downloads/ensemble/data/imagesTs/A049_v2_T2W.nii.gz'},\n",
       " {'image': '/home/adminbthomas/Downloads/ensemble/data/imagesTs/A050_v1_T2W.nii.gz'},\n",
       " {'image': '/home/adminbthomas/Downloads/ensemble/data/imagesTs/A050_v2_T2W.nii.gz'},\n",
       " {'image': '/home/adminbthomas/Downloads/ensemble/data/imagesTs/A051_v1_T2W.nii.gz'},\n",
       " {'image': '/home/adminbthomas/Downloads/ensemble/data/imagesTs/A051_v2_T2W.nii.gz'},\n",
       " {'image': '/home/adminbthomas/Downloads/ensemble/data/imagesTs/A052_v1_T2W.nii.gz'},\n",
       " {'image': '/home/adminbthomas/Downloads/ensemble/data/imagesTs/A052_v2_T2W.nii.gz'},\n",
       " {'image': '/home/adminbthomas/Downloads/ensemble/data/imagesTs/A055_v1_T2W.nii.gz'},\n",
       " {'image': '/home/adminbthomas/Downloads/ensemble/data/imagesTs/A055_v2_T2W.nii.gz'},\n",
       " {'image': '/home/adminbthomas/Downloads/ensemble/data/imagesTs/A056_v1_T2W.nii.gz'},\n",
       " {'image': '/home/adminbthomas/Downloads/ensemble/data/imagesTs/A056_v2_T2W.nii.gz'},\n",
       " {'image': '/home/adminbthomas/Downloads/ensemble/data/imagesTs/A057_v1_T2W.nii.gz'},\n",
       " {'image': '/home/adminbthomas/Downloads/ensemble/data/imagesTs/A057_v2_T2W.nii.gz'},\n",
       " {'image': '/home/adminbthomas/Downloads/ensemble/data/imagesTs/A061_v1_T2W.nii.gz'},\n",
       " {'image': '/home/adminbthomas/Downloads/ensemble/data/imagesTs/A061_v2_T2W.nii.gz'},\n",
       " {'image': '/home/adminbthomas/Downloads/ensemble/data/imagesTs/A062_v1_T2W.nii.gz'},\n",
       " {'image': '/home/adminbthomas/Downloads/ensemble/data/imagesTs/A062_v2_T2W.nii.gz'},\n",
       " {'image': '/home/adminbthomas/Downloads/ensemble/data/imagesTs/A063_v1_T2W.nii.gz'},\n",
       " {'image': '/home/adminbthomas/Downloads/ensemble/data/imagesTs/A063_v2_T2W.nii.gz'},\n",
       " {'image': '/home/adminbthomas/Downloads/ensemble/data/imagesTs/A064_v1_T2W.nii.gz'},\n",
       " {'image': '/home/adminbthomas/Downloads/ensemble/data/imagesTs/A064_v2_T2W.nii.gz'},\n",
       " {'image': '/home/adminbthomas/Downloads/ensemble/data/imagesTs/A066_v1_T2W.nii.gz'},\n",
       " {'image': '/home/adminbthomas/Downloads/ensemble/data/imagesTs/A066_v2_T2W.nii.gz'},\n",
       " {'image': '/home/adminbthomas/Downloads/ensemble/data/imagesTs/A067_v1_T2W.nii.gz'},\n",
       " {'image': '/home/adminbthomas/Downloads/ensemble/data/imagesTs/A067_v2_T2W.nii.gz'},\n",
       " {'image': '/home/adminbthomas/Downloads/ensemble/data/imagesTs/A068_v1_T2W.nii.gz'},\n",
       " {'image': '/home/adminbthomas/Downloads/ensemble/data/imagesTs/A068_v2_T2W.nii.gz'},\n",
       " {'image': '/home/adminbthomas/Downloads/ensemble/data/imagesTs/A071_v1_T2W.nii.gz'},\n",
       " {'image': '/home/adminbthomas/Downloads/ensemble/data/imagesTs/A071_v2_T2W.nii.gz'},\n",
       " {'image': '/home/adminbthomas/Downloads/ensemble/data/imagesTs/A074_v1_T2W.nii.gz'},\n",
       " {'image': '/home/adminbthomas/Downloads/ensemble/data/imagesTs/A074_v2_T2W.nii.gz'},\n",
       " {'image': '/home/adminbthomas/Downloads/ensemble/data/imagesTs/A076_v1_T2W.nii.gz'},\n",
       " {'image': '/home/adminbthomas/Downloads/ensemble/data/imagesTs/A076_v2_T2W.nii.gz'}]"
      ]
     },
     "execution_count": 10,
     "metadata": {},
     "output_type": "execute_result"
    }
   ],
   "source": [
    "test_data"
   ]
  },
  {
   "cell_type": "code",
   "execution_count": 16,
   "id": "8d36209f",
   "metadata": {},
   "outputs": [],
   "source": [
    "def ensemble_inference(post_transforms, models):\n",
    "    evaluator = EnsembleEvaluator(\n",
    "        device=device,\n",
    "        val_data_loader=test_loader,\n",
    "        pred_keys=[\"pred0\", \"pred1\", \"pred2\", \"pred3\", \"pred4\"],\n",
    "        networks=models,\n",
    "        inferer=SlidingWindowInferer(roi_size=(96, 96, 16), sw_batch_size=4, overlap=0.8),\n",
    "        postprocessing=post_transforms,\n",
    "    )\n",
    "    evaluator.run()"
   ]
  },
  {
   "cell_type": "code",
   "execution_count": 17,
   "id": "4fab6fa1",
   "metadata": {},
   "outputs": [
    {
     "name": "stdout",
     "output_type": "stream",
     "text": [
      "INFO:ignite.engine.engine.EnsembleEvaluator:Engine run resuming from iteration 0, epoch 0 until 1 epochs\n"
     ]
    },
    {
     "name": "stderr",
     "output_type": "stream",
     "text": [
      "Modifying image pixdim from [1.4648438 1.4648438 4.        0.       ] to [  1.46484375   1.46484375   4.         268.45717811]\n",
      "Modifying image pixdim from [1.4648438 1.4648438 4.        0.       ] to [  1.46484375   1.46484375   4.         268.45717811]\n",
      "Modifying image pixdim from [1.4648438 1.4648438 4.        0.       ] to [  1.46484375   1.46484375   4.         268.45717811]\n",
      "Modifying image pixdim from [1.4648438 1.4648438 4.        0.       ] to [  1.46484375   1.46484375   4.         268.45717811]\n"
     ]
    },
    {
     "name": "stdout",
     "output_type": "stream",
     "text": [
      "2024-03-30 19:28:18,747 INFO image_writer.py:194 - writing: outMR11wtAvgAll/A002_v1_T2W_seg.nii.gz\n",
      "2024-03-30 19:28:27,787 INFO image_writer.py:194 - writing: outMR11wtAvgAll/A002_v2_T2W_seg.nii.gz\n",
      "2024-03-30 19:28:36,878 INFO image_writer.py:194 - writing: outMR11wtAvgAll/A002_v3_T2W_seg.nii.gz\n",
      "2024-03-30 19:28:45,999 INFO image_writer.py:194 - writing: outMR11wtAvgAll/A003_v1_T2W_seg.nii.gz\n",
      "2024-03-30 19:28:55,311 INFO image_writer.py:194 - writing: outMR11wtAvgAll/A003_v2_T2W_seg.nii.gz\n",
      "2024-03-30 19:29:04,572 INFO image_writer.py:194 - writing: outMR11wtAvgAll/A009_v1_T2W_seg.nii.gz\n",
      "2024-03-30 19:29:13,851 INFO image_writer.py:194 - writing: outMR11wtAvgAll/A009_v2_T2W_seg.nii.gz\n",
      "2024-03-30 19:29:22,968 INFO image_writer.py:194 - writing: outMR11wtAvgAll/A011_v1_T2W_seg.nii.gz\n",
      "2024-03-30 19:29:32,132 INFO image_writer.py:194 - writing: outMR11wtAvgAll/A011_v2_T2W_seg.nii.gz\n",
      "2024-03-30 19:29:41,425 INFO image_writer.py:194 - writing: outMR11wtAvgAll/A013_v1_T2W_seg.nii.gz\n",
      "2024-03-30 19:29:49,303 INFO image_writer.py:194 - writing: outMR11wtAvgAll/A013_v2_T2W_seg.nii.gz\n",
      "2024-03-30 19:29:58,678 INFO image_writer.py:194 - writing: outMR11wtAvgAll/A014_v1_T2W_seg.nii.gz\n",
      "2024-03-30 19:30:08,039 INFO image_writer.py:194 - writing: outMR11wtAvgAll/A014_v2_T2W_seg.nii.gz\n",
      "2024-03-30 19:30:17,330 INFO image_writer.py:194 - writing: outMR11wtAvgAll/A015_v1_T2W_seg.nii.gz\n",
      "2024-03-30 19:30:26,545 INFO image_writer.py:194 - writing: outMR11wtAvgAll/A015_v2_T2W_seg.nii.gz\n"
     ]
    },
    {
     "name": "stderr",
     "output_type": "stream",
     "text": [
      "Modifying image pixdim from [1.4648438 1.4648438 8.        0.       ] to [  1.46484375   1.46484375   8.         281.03604124]\n"
     ]
    },
    {
     "name": "stdout",
     "output_type": "stream",
     "text": [
      "2024-03-30 19:30:35,759 INFO image_writer.py:194 - writing: outMR11wtAvgAll/A016_v1_T2W_seg.nii.gz\n"
     ]
    },
    {
     "name": "stderr",
     "output_type": "stream",
     "text": [
      "Modifying image pixdim from [1.4648438 1.4648438 8.        0.       ] to [  1.46484375   1.46484375   8.         281.03604124]\n"
     ]
    },
    {
     "name": "stdout",
     "output_type": "stream",
     "text": [
      "2024-03-30 19:30:44,981 INFO image_writer.py:194 - writing: outMR11wtAvgAll/A016_v2_T2W_seg.nii.gz\n"
     ]
    },
    {
     "name": "stderr",
     "output_type": "stream",
     "text": [
      "Modifying image pixdim from [1.4648438 1.4648438 8.        0.       ] to [  1.46484375   1.46484375   8.         281.03604124]\n"
     ]
    },
    {
     "name": "stdout",
     "output_type": "stream",
     "text": [
      "2024-03-30 19:30:54,207 INFO image_writer.py:194 - writing: outMR11wtAvgAll/A017_v1_T2W_seg.nii.gz\n"
     ]
    },
    {
     "name": "stderr",
     "output_type": "stream",
     "text": [
      "Modifying image pixdim from [1.4648438 1.4648438 8.        0.       ] to [  1.46484375   1.46484375   8.         281.03604124]\n"
     ]
    },
    {
     "name": "stdout",
     "output_type": "stream",
     "text": [
      "2024-03-30 19:31:03,431 INFO image_writer.py:194 - writing: outMR11wtAvgAll/A017_v2_T2W_seg.nii.gz\n",
      "2024-03-30 19:31:12,672 INFO image_writer.py:194 - writing: outMR11wtAvgAll/A018_v1_T2W_seg.nii.gz\n",
      "2024-03-30 19:31:21,896 INFO image_writer.py:194 - writing: outMR11wtAvgAll/A018_v2_T2W_seg.nii.gz\n",
      "2024-03-30 19:31:31,176 INFO image_writer.py:194 - writing: outMR11wtAvgAll/A021_v1_T2W_seg.nii.gz\n",
      "2024-03-30 19:31:40,450 INFO image_writer.py:194 - writing: outMR11wtAvgAll/A021_v2_T2W_seg.nii.gz\n",
      "2024-03-30 19:32:07,408 INFO image_writer.py:194 - writing: outMR11wtAvgAll/A022_v1_T2W_seg.nii.gz\n",
      "2024-03-30 19:32:34,400 INFO image_writer.py:194 - writing: outMR11wtAvgAll/A022_v2_T2W_seg.nii.gz\n",
      "2024-03-30 19:33:01,420 INFO image_writer.py:194 - writing: outMR11wtAvgAll/A023_v1_T2W_seg.nii.gz\n",
      "2024-03-30 19:33:28,450 INFO image_writer.py:194 - writing: outMR11wtAvgAll/A023_v2_T2W_seg.nii.gz\n",
      "2024-03-30 19:33:37,738 INFO image_writer.py:194 - writing: outMR11wtAvgAll/A024_v1_T2W_seg.nii.gz\n",
      "2024-03-30 19:33:47,025 INFO image_writer.py:194 - writing: outMR11wtAvgAll/A024_v2_T2W_seg.nii.gz\n",
      "2024-03-30 19:34:14,060 INFO image_writer.py:194 - writing: outMR11wtAvgAll/A026_v1_T2W_seg.nii.gz\n",
      "2024-03-30 19:34:41,200 INFO image_writer.py:194 - writing: outMR11wtAvgAll/A026_v2_T2W_seg.nii.gz\n",
      "2024-03-30 19:34:50,498 INFO image_writer.py:194 - writing: outMR11wtAvgAll/A028_v1_T2W_seg.nii.gz\n",
      "2024-03-30 19:34:59,776 INFO image_writer.py:194 - writing: outMR11wtAvgAll/A028_v2_T2W_seg.nii.gz\n",
      "2024-03-30 19:35:09,080 INFO image_writer.py:194 - writing: outMR11wtAvgAll/A029_v1_T2W_seg.nii.gz\n",
      "2024-03-30 19:35:16,888 INFO image_writer.py:194 - writing: outMR11wtAvgAll/A029_v2_T2W_seg.nii.gz\n",
      "2024-03-30 19:35:26,161 INFO image_writer.py:194 - writing: outMR11wtAvgAll/A029_v3_T2W_seg.nii.gz\n",
      "2024-03-30 19:35:33,957 INFO image_writer.py:194 - writing: outMR11wtAvgAll/A029_v4_T2W_seg.nii.gz\n",
      "2024-03-30 19:35:43,237 INFO image_writer.py:194 - writing: outMR11wtAvgAll/A030_v1_T2W_seg.nii.gz\n",
      "2024-03-30 19:35:52,499 INFO image_writer.py:194 - writing: outMR11wtAvgAll/A030_v2_T2W_seg.nii.gz\n",
      "2024-03-30 19:36:00,297 INFO image_writer.py:194 - writing: outMR11wtAvgAll/A031_v1_T2W_seg.nii.gz\n",
      "2024-03-30 19:36:08,093 INFO image_writer.py:194 - writing: outMR11wtAvgAll/A031_v2_T2W_seg.nii.gz\n",
      "2024-03-30 19:36:35,080 INFO image_writer.py:194 - writing: outMR11wtAvgAll/A032_v1_T2W_seg.nii.gz\n",
      "2024-03-30 19:37:02,096 INFO image_writer.py:194 - writing: outMR11wtAvgAll/A032_v2_T2W_seg.nii.gz\n",
      "2024-03-30 19:37:29,103 INFO image_writer.py:194 - writing: outMR11wtAvgAll/A033_v1_T2W_seg.nii.gz\n",
      "2024-03-30 19:37:56,142 INFO image_writer.py:194 - writing: outMR11wtAvgAll/A033_v2_T2W_seg.nii.gz\n",
      "2024-03-30 19:38:23,194 INFO image_writer.py:194 - writing: outMR11wtAvgAll/A033_v3_T2W_seg.nii.gz\n",
      "2024-03-30 19:38:50,267 INFO image_writer.py:194 - writing: outMR11wtAvgAll/A033_v4_T2W_seg.nii.gz\n",
      "2024-03-30 19:39:17,297 INFO image_writer.py:194 - writing: outMR11wtAvgAll/A034_v1_T2W_seg.nii.gz\n",
      "2024-03-30 19:39:44,347 INFO image_writer.py:194 - writing: outMR11wtAvgAll/A034_v2_T2W_seg.nii.gz\n",
      "2024-03-30 19:40:11,380 INFO image_writer.py:194 - writing: outMR11wtAvgAll/A036_v1_T2W_seg.nii.gz\n",
      "2024-03-30 19:40:38,447 INFO image_writer.py:194 - writing: outMR11wtAvgAll/A036_v2_T2W_seg.nii.gz\n",
      "2024-03-30 19:41:01,043 INFO image_writer.py:194 - writing: outMR11wtAvgAll/A037_v1_T2W_seg.nii.gz\n",
      "2024-03-30 19:41:28,077 INFO image_writer.py:194 - writing: outMR11wtAvgAll/A037_v2_T2W_seg.nii.gz\n",
      "2024-03-30 19:41:37,356 INFO image_writer.py:194 - writing: outMR11wtAvgAll/A038_v1_T2W_seg.nii.gz\n",
      "2024-03-30 19:41:46,653 INFO image_writer.py:194 - writing: outMR11wtAvgAll/A038_v2_T2W_seg.nii.gz\n",
      "2024-03-30 19:41:54,454 INFO image_writer.py:194 - writing: outMR11wtAvgAll/A039_v1_T2W_seg.nii.gz\n",
      "2024-03-30 19:42:00,786 INFO image_writer.py:194 - writing: outMR11wtAvgAll/A039_v2_T2W_seg.nii.gz\n",
      "2024-03-30 19:42:27,802 INFO image_writer.py:194 - writing: outMR11wtAvgAll/A040_v1_T2W_seg.nii.gz\n",
      "2024-03-30 19:42:54,835 INFO image_writer.py:194 - writing: outMR11wtAvgAll/A040_v2_T2W_seg.nii.gz\n",
      "2024-03-30 19:43:04,115 INFO image_writer.py:194 - writing: outMR11wtAvgAll/A041_v1_T2W_seg.nii.gz\n",
      "2024-03-30 19:43:13,392 INFO image_writer.py:194 - writing: outMR11wtAvgAll/A041_v2_T2W_seg.nii.gz\n",
      "2024-03-30 19:43:40,440 INFO image_writer.py:194 - writing: outMR11wtAvgAll/A043_v1_T2W_seg.nii.gz\n",
      "2024-03-30 19:44:07,494 INFO image_writer.py:194 - writing: outMR11wtAvgAll/A043_v2_T2W_seg.nii.gz\n",
      "2024-03-30 19:44:34,528 INFO image_writer.py:194 - writing: outMR11wtAvgAll/A043_v5_T2W_seg.nii.gz\n",
      "2024-03-30 19:44:43,808 INFO image_writer.py:194 - writing: outMR11wtAvgAll/A046_v1_T2W_seg.nii.gz\n",
      "2024-03-30 19:44:53,095 INFO image_writer.py:194 - writing: outMR11wtAvgAll/A046_v2_T2W_seg.nii.gz\n",
      "2024-03-30 19:45:02,379 INFO image_writer.py:194 - writing: outMR11wtAvgAll/A047_v1_T2W_seg.nii.gz\n",
      "2024-03-30 19:45:11,658 INFO image_writer.py:194 - writing: outMR11wtAvgAll/A047_v2_T2W_seg.nii.gz\n",
      "2024-03-30 19:45:20,964 INFO image_writer.py:194 - writing: outMR11wtAvgAll/A048_v1_T2W_seg.nii.gz\n",
      "2024-03-30 19:45:30,278 INFO image_writer.py:194 - writing: outMR11wtAvgAll/A048_v2_T2W_seg.nii.gz\n",
      "2024-03-30 19:45:39,560 INFO image_writer.py:194 - writing: outMR11wtAvgAll/A049_v1_T2W_seg.nii.gz\n",
      "2024-03-30 19:45:48,838 INFO image_writer.py:194 - writing: outMR11wtAvgAll/A049_v2_T2W_seg.nii.gz\n",
      "2024-03-30 19:45:58,132 INFO image_writer.py:194 - writing: outMR11wtAvgAll/A050_v1_T2W_seg.nii.gz\n",
      "2024-03-30 19:46:07,413 INFO image_writer.py:194 - writing: outMR11wtAvgAll/A050_v2_T2W_seg.nii.gz\n",
      "2024-03-30 19:46:16,696 INFO image_writer.py:194 - writing: outMR11wtAvgAll/A051_v1_T2W_seg.nii.gz\n",
      "2024-03-30 19:46:25,978 INFO image_writer.py:194 - writing: outMR11wtAvgAll/A051_v2_T2W_seg.nii.gz\n",
      "2024-03-30 19:46:53,038 INFO image_writer.py:194 - writing: outMR11wtAvgAll/A052_v1_T2W_seg.nii.gz\n",
      "2024-03-30 19:47:20,233 INFO image_writer.py:194 - writing: outMR11wtAvgAll/A052_v2_T2W_seg.nii.gz\n",
      "2024-03-30 19:47:29,557 INFO image_writer.py:194 - writing: outMR11wtAvgAll/A055_v1_T2W_seg.nii.gz\n",
      "2024-03-30 19:47:38,853 INFO image_writer.py:194 - writing: outMR11wtAvgAll/A055_v2_T2W_seg.nii.gz\n",
      "2024-03-30 19:47:48,131 INFO image_writer.py:194 - writing: outMR11wtAvgAll/A056_v1_T2W_seg.nii.gz\n",
      "2024-03-30 19:47:57,410 INFO image_writer.py:194 - writing: outMR11wtAvgAll/A056_v2_T2W_seg.nii.gz\n",
      "2024-03-30 19:48:06,708 INFO image_writer.py:194 - writing: outMR11wtAvgAll/A057_v1_T2W_seg.nii.gz\n",
      "2024-03-30 19:48:16,001 INFO image_writer.py:194 - writing: outMR11wtAvgAll/A057_v2_T2W_seg.nii.gz\n",
      "2024-03-30 19:48:43,050 INFO image_writer.py:194 - writing: outMR11wtAvgAll/A061_v1_T2W_seg.nii.gz\n",
      "2024-03-30 19:49:10,110 INFO image_writer.py:194 - writing: outMR11wtAvgAll/A061_v2_T2W_seg.nii.gz\n",
      "2024-03-30 19:49:17,945 INFO image_writer.py:194 - writing: outMR11wtAvgAll/A062_v1_T2W_seg.nii.gz\n",
      "2024-03-30 19:49:25,756 INFO image_writer.py:194 - writing: outMR11wtAvgAll/A062_v2_T2W_seg.nii.gz\n",
      "2024-03-30 19:49:35,031 INFO image_writer.py:194 - writing: outMR11wtAvgAll/A063_v1_T2W_seg.nii.gz\n",
      "2024-03-30 19:49:44,319 INFO image_writer.py:194 - writing: outMR11wtAvgAll/A063_v2_T2W_seg.nii.gz\n",
      "2024-03-30 19:49:53,600 INFO image_writer.py:194 - writing: outMR11wtAvgAll/A064_v1_T2W_seg.nii.gz\n",
      "2024-03-30 19:50:02,878 INFO image_writer.py:194 - writing: outMR11wtAvgAll/A064_v2_T2W_seg.nii.gz\n",
      "2024-03-30 19:50:12,157 INFO image_writer.py:194 - writing: outMR11wtAvgAll/A066_v1_T2W_seg.nii.gz\n",
      "2024-03-30 19:50:21,439 INFO image_writer.py:194 - writing: outMR11wtAvgAll/A066_v2_T2W_seg.nii.gz\n",
      "2024-03-30 19:50:30,721 INFO image_writer.py:194 - writing: outMR11wtAvgAll/A067_v1_T2W_seg.nii.gz\n",
      "2024-03-30 19:50:40,008 INFO image_writer.py:194 - writing: outMR11wtAvgAll/A067_v2_T2W_seg.nii.gz\n",
      "2024-03-30 19:50:47,096 INFO image_writer.py:194 - writing: outMR11wtAvgAll/A068_v1_T2W_seg.nii.gz\n",
      "2024-03-30 19:50:54,906 INFO image_writer.py:194 - writing: outMR11wtAvgAll/A068_v2_T2W_seg.nii.gz\n",
      "2024-03-30 19:51:17,509 INFO image_writer.py:194 - writing: outMR11wtAvgAll/A071_v1_T2W_seg.nii.gz\n",
      "2024-03-30 19:51:40,104 INFO image_writer.py:194 - writing: outMR11wtAvgAll/A071_v2_T2W_seg.nii.gz\n",
      "2024-03-30 19:52:02,752 INFO image_writer.py:194 - writing: outMR11wtAvgAll/A074_v1_T2W_seg.nii.gz\n"
     ]
    },
    {
     "name": "stdout",
     "output_type": "stream",
     "text": [
      "2024-03-30 19:52:29,783 INFO image_writer.py:194 - writing: outMR11wtAvgAll/A074_v2_T2W_seg.nii.gz\n",
      "2024-03-30 19:52:37,608 INFO image_writer.py:194 - writing: outMR11wtAvgAll/A076_v1_T2W_seg.nii.gz\n",
      "2024-03-30 19:52:46,892 INFO image_writer.py:194 - writing: outMR11wtAvgAll/A076_v2_T2W_seg.nii.gz\n",
      "INFO:ignite.engine.engine.EnsembleEvaluator:Epoch[1] Complete. Time taken: 00:24:38\n",
      "INFO:ignite.engine.engine.EnsembleEvaluator:Engine run complete. Time taken: 00:24:38\n"
     ]
    }
   ],
   "source": [
    "mean_post_transforms = Compose(\n",
    "    [\n",
    "        EnsureTyped(keys=[\"pred0\", \"pred1\", \"pred2\", \"pred3\", \"pred4\"]),\n",
    "        MeanEnsembled(\n",
    "            keys=[\"pred0\", \"pred1\", \"pred2\", \"pred3\", \"pred4\"],\n",
    "            output_key=\"pred\",\n",
    "            # in this particular example, we use validation metrics as weights\n",
    "            weights=[0.9108, 0.8404, 0.9049, 0.8504, 0.8981],\n",
    "        ),\n",
    "        Invertd(\n",
    "        keys=\"pred\",\n",
    "        transform=test_org_transforms,\n",
    "        orig_keys=\"image\",\n",
    "        meta_keys=\"pred_meta_dict\",\n",
    "        orig_meta_keys=\"image_meta_dict\",\n",
    "        meta_key_postfix=\"meta_dict\",\n",
    "        nearest_interp=False,\n",
    "        to_tensor=True,\n",
    "        ),\n",
    "        AsDiscreted(keys=\"pred\", argmax=True, to_onehot=6),\n",
    "        SaveImaged(keys=\"pred\", meta_keys=\"pred_meta_dict\", output_dir=\"./outMR11wtAvgAll\", output_postfix=\"seg\", resample=False, separate_folder=False),\n",
    "    ]\n",
    ")\n",
    "ensemble_inference(mean_post_transforms, models)"
   ]
  },
  {
   "cell_type": "code",
   "execution_count": null,
   "id": "b6544add",
   "metadata": {
    "scrolled": false
   },
   "outputs": [
    {
     "name": "stdout",
     "output_type": "stream",
     "text": [
      "INFO:ignite.engine.engine.EnsembleEvaluator:Engine run resuming from iteration 0, epoch 0 until 1 epochs\n"
     ]
    },
    {
     "name": "stderr",
     "output_type": "stream",
     "text": [
      "Modifying image pixdim from [1.4648438 1.4648438 4.        0.       ] to [  1.46484375   1.46484375   4.         268.45717811]\n",
      "Modifying image pixdim from [1.4648438 1.4648438 4.        0.       ] to [  1.46484375   1.46484375   4.         268.45717811]\n",
      "Modifying image pixdim from [1.4648438 1.4648438 4.        0.       ] to [  1.46484375   1.46484375   4.         268.45717811]\n",
      "Modifying image pixdim from [1.4648438 1.4648438 4.        0.       ] to [  1.46484375   1.46484375   4.         268.45717811]\n"
     ]
    },
    {
     "name": "stdout",
     "output_type": "stream",
     "text": [
      "2024-03-30 15:46:16,591 INFO image_writer.py:194 - writing: outMR11voteAll/A002_v1_T2W_seg.nii.gz\n",
      "2024-03-30 15:46:25,628 INFO image_writer.py:194 - writing: outMR11voteAll/A002_v2_T2W_seg.nii.gz\n",
      "2024-03-30 15:46:34,632 INFO image_writer.py:194 - writing: outMR11voteAll/A002_v3_T2W_seg.nii.gz\n",
      "2024-03-30 15:46:43,715 INFO image_writer.py:194 - writing: outMR11voteAll/A003_v1_T2W_seg.nii.gz\n",
      "2024-03-30 15:46:52,899 INFO image_writer.py:194 - writing: outMR11voteAll/A003_v2_T2W_seg.nii.gz\n",
      "2024-03-30 15:47:02,104 INFO image_writer.py:194 - writing: outMR11voteAll/A009_v1_T2W_seg.nii.gz\n",
      "2024-03-30 15:47:11,352 INFO image_writer.py:194 - writing: outMR11voteAll/A009_v2_T2W_seg.nii.gz\n",
      "2024-03-30 15:47:20,671 INFO image_writer.py:194 - writing: outMR11voteAll/A011_v1_T2W_seg.nii.gz\n",
      "2024-03-30 15:47:29,899 INFO image_writer.py:194 - writing: outMR11voteAll/A011_v2_T2W_seg.nii.gz\n",
      "2024-03-30 15:47:39,039 INFO image_writer.py:194 - writing: outMR11voteAll/A013_v1_T2W_seg.nii.gz\n",
      "2024-03-30 15:47:46,766 INFO image_writer.py:194 - writing: outMR11voteAll/A013_v2_T2W_seg.nii.gz\n",
      "2024-03-30 15:47:56,104 INFO image_writer.py:194 - writing: outMR11voteAll/A014_v1_T2W_seg.nii.gz\n",
      "2024-03-30 15:48:05,467 INFO image_writer.py:194 - writing: outMR11voteAll/A014_v2_T2W_seg.nii.gz\n",
      "2024-03-30 15:48:14,875 INFO image_writer.py:194 - writing: outMR11voteAll/A015_v1_T2W_seg.nii.gz\n",
      "2024-03-30 15:48:24,269 INFO image_writer.py:194 - writing: outMR11voteAll/A015_v2_T2W_seg.nii.gz\n"
     ]
    },
    {
     "name": "stderr",
     "output_type": "stream",
     "text": [
      "Modifying image pixdim from [1.4648438 1.4648438 8.        0.       ] to [  1.46484375   1.46484375   8.         281.03604124]\n"
     ]
    },
    {
     "name": "stdout",
     "output_type": "stream",
     "text": [
      "2024-03-30 15:48:33,565 INFO image_writer.py:194 - writing: outMR11voteAll/A016_v1_T2W_seg.nii.gz\n"
     ]
    },
    {
     "name": "stderr",
     "output_type": "stream",
     "text": [
      "Modifying image pixdim from [1.4648438 1.4648438 8.        0.       ] to [  1.46484375   1.46484375   8.         281.03604124]\n"
     ]
    },
    {
     "name": "stdout",
     "output_type": "stream",
     "text": [
      "2024-03-30 15:48:42,770 INFO image_writer.py:194 - writing: outMR11voteAll/A016_v2_T2W_seg.nii.gz\n"
     ]
    },
    {
     "name": "stderr",
     "output_type": "stream",
     "text": [
      "Modifying image pixdim from [1.4648438 1.4648438 8.        0.       ] to [  1.46484375   1.46484375   8.         281.03604124]\n"
     ]
    },
    {
     "name": "stdout",
     "output_type": "stream",
     "text": [
      "2024-03-30 15:48:51,966 INFO image_writer.py:194 - writing: outMR11voteAll/A017_v1_T2W_seg.nii.gz\n"
     ]
    },
    {
     "name": "stderr",
     "output_type": "stream",
     "text": [
      "Modifying image pixdim from [1.4648438 1.4648438 8.        0.       ] to [  1.46484375   1.46484375   8.         281.03604124]\n"
     ]
    },
    {
     "name": "stdout",
     "output_type": "stream",
     "text": [
      "2024-03-30 15:49:01,167 INFO image_writer.py:194 - writing: outMR11voteAll/A017_v2_T2W_seg.nii.gz\n",
      "2024-03-30 15:49:10,380 INFO image_writer.py:194 - writing: outMR11voteAll/A018_v1_T2W_seg.nii.gz\n",
      "2024-03-30 15:49:19,625 INFO image_writer.py:194 - writing: outMR11voteAll/A018_v2_T2W_seg.nii.gz\n",
      "2024-03-30 15:49:28,869 INFO image_writer.py:194 - writing: outMR11voteAll/A021_v1_T2W_seg.nii.gz\n",
      "2024-03-30 15:49:38,104 INFO image_writer.py:194 - writing: outMR11voteAll/A021_v2_T2W_seg.nii.gz\n",
      "2024-03-30 15:50:05,017 INFO image_writer.py:194 - writing: outMR11voteAll/A022_v1_T2W_seg.nii.gz\n",
      "2024-03-30 15:50:31,945 INFO image_writer.py:194 - writing: outMR11voteAll/A022_v2_T2W_seg.nii.gz\n",
      "2024-03-30 15:50:58,940 INFO image_writer.py:194 - writing: outMR11voteAll/A023_v1_T2W_seg.nii.gz\n",
      "2024-03-30 15:51:25,930 INFO image_writer.py:194 - writing: outMR11voteAll/A023_v2_T2W_seg.nii.gz\n",
      "2024-03-30 15:51:35,204 INFO image_writer.py:194 - writing: outMR11voteAll/A024_v1_T2W_seg.nii.gz\n",
      "2024-03-30 15:51:44,466 INFO image_writer.py:194 - writing: outMR11voteAll/A024_v2_T2W_seg.nii.gz\n",
      "2024-03-30 15:52:11,461 INFO image_writer.py:194 - writing: outMR11voteAll/A026_v1_T2W_seg.nii.gz\n",
      "2024-03-30 15:52:38,481 INFO image_writer.py:194 - writing: outMR11voteAll/A026_v2_T2W_seg.nii.gz\n",
      "2024-03-30 15:52:47,760 INFO image_writer.py:194 - writing: outMR11voteAll/A028_v1_T2W_seg.nii.gz\n",
      "2024-03-30 15:52:57,039 INFO image_writer.py:194 - writing: outMR11voteAll/A028_v2_T2W_seg.nii.gz\n",
      "2024-03-30 15:53:06,311 INFO image_writer.py:194 - writing: outMR11voteAll/A029_v1_T2W_seg.nii.gz\n",
      "2024-03-30 15:53:14,116 INFO image_writer.py:194 - writing: outMR11voteAll/A029_v2_T2W_seg.nii.gz\n",
      "2024-03-30 15:53:23,387 INFO image_writer.py:194 - writing: outMR11voteAll/A029_v3_T2W_seg.nii.gz\n",
      "2024-03-30 15:53:31,189 INFO image_writer.py:194 - writing: outMR11voteAll/A029_v4_T2W_seg.nii.gz\n",
      "2024-03-30 15:53:40,459 INFO image_writer.py:194 - writing: outMR11voteAll/A030_v1_T2W_seg.nii.gz\n",
      "2024-03-30 15:53:49,728 INFO image_writer.py:194 - writing: outMR11voteAll/A030_v2_T2W_seg.nii.gz\n",
      "2024-03-30 15:53:57,578 INFO image_writer.py:194 - writing: outMR11voteAll/A031_v1_T2W_seg.nii.gz\n",
      "2024-03-30 15:54:05,381 INFO image_writer.py:194 - writing: outMR11voteAll/A031_v2_T2W_seg.nii.gz\n",
      "2024-03-30 15:54:32,402 INFO image_writer.py:194 - writing: outMR11voteAll/A032_v1_T2W_seg.nii.gz\n",
      "2024-03-30 15:54:59,438 INFO image_writer.py:194 - writing: outMR11voteAll/A032_v2_T2W_seg.nii.gz\n",
      "2024-03-30 15:55:26,503 INFO image_writer.py:194 - writing: outMR11voteAll/A033_v1_T2W_seg.nii.gz\n",
      "2024-03-30 15:55:53,571 INFO image_writer.py:194 - writing: outMR11voteAll/A033_v2_T2W_seg.nii.gz\n",
      "2024-03-30 15:56:20,633 INFO image_writer.py:194 - writing: outMR11voteAll/A033_v3_T2W_seg.nii.gz\n",
      "2024-03-30 15:56:47,737 INFO image_writer.py:194 - writing: outMR11voteAll/A033_v4_T2W_seg.nii.gz\n",
      "2024-03-30 15:57:16,154 INFO image_writer.py:194 - writing: outMR11voteAll/A034_v1_T2W_seg.nii.gz\n",
      "2024-03-30 15:57:48,047 INFO image_writer.py:194 - writing: outMR11voteAll/A034_v2_T2W_seg.nii.gz\n",
      "2024-03-30 15:58:15,158 INFO image_writer.py:194 - writing: outMR11voteAll/A036_v1_T2W_seg.nii.gz\n",
      "2024-03-30 15:58:42,237 INFO image_writer.py:194 - writing: outMR11voteAll/A036_v2_T2W_seg.nii.gz\n",
      "2024-03-30 15:59:05,319 INFO image_writer.py:194 - writing: outMR11voteAll/A037_v1_T2W_seg.nii.gz\n",
      "2024-03-30 15:59:54,325 INFO image_writer.py:194 - writing: outMR11voteAll/A037_v2_T2W_seg.nii.gz\n",
      "2024-03-30 16:00:11,266 INFO image_writer.py:194 - writing: outMR11voteAll/A038_v1_T2W_seg.nii.gz\n",
      "2024-03-30 16:00:22,807 INFO image_writer.py:194 - writing: outMR11voteAll/A038_v2_T2W_seg.nii.gz\n",
      "2024-03-30 16:02:44,061 INFO image_writer.py:194 - writing: outMR11voteAll/A043_v2_T2W_seg.nii.gz\n",
      "2024-03-30 16:03:11,144 INFO image_writer.py:194 - writing: outMR11voteAll/A043_v5_T2W_seg.nii.gz\n",
      "2024-03-30 16:03:20,442 INFO image_writer.py:194 - writing: outMR11voteAll/A046_v1_T2W_seg.nii.gz\n",
      "2024-03-30 16:03:29,739 INFO image_writer.py:194 - writing: outMR11voteAll/A046_v2_T2W_seg.nii.gz\n",
      "2024-03-30 16:03:39,056 INFO image_writer.py:194 - writing: outMR11voteAll/A047_v1_T2W_seg.nii.gz\n",
      "2024-03-30 16:03:48,386 INFO image_writer.py:194 - writing: outMR11voteAll/A047_v2_T2W_seg.nii.gz\n",
      "2024-03-30 16:03:57,680 INFO image_writer.py:194 - writing: outMR11voteAll/A048_v1_T2W_seg.nii.gz\n",
      "2024-03-30 16:04:06,971 INFO image_writer.py:194 - writing: outMR11voteAll/A048_v2_T2W_seg.nii.gz\n",
      "2024-03-30 16:04:16,264 INFO image_writer.py:194 - writing: outMR11voteAll/A049_v1_T2W_seg.nii.gz\n",
      "2024-03-30 16:06:43,458 INFO image_writer.py:194 - writing: outMR11voteAll/A057_v1_T2W_seg.nii.gz\n",
      "2024-03-30 16:06:52,755 INFO image_writer.py:194 - writing: outMR11voteAll/A057_v2_T2W_seg.nii.gz\n",
      "2024-03-30 16:07:19,799 INFO image_writer.py:194 - writing: outMR11voteAll/A061_v1_T2W_seg.nii.gz\n",
      "2024-03-30 16:07:46,904 INFO image_writer.py:194 - writing: outMR11voteAll/A061_v2_T2W_seg.nii.gz\n",
      "2024-03-30 16:07:54,732 INFO image_writer.py:194 - writing: outMR11voteAll/A062_v1_T2W_seg.nii.gz\n",
      "2024-03-30 16:08:02,559 INFO image_writer.py:194 - writing: outMR11voteAll/A062_v2_T2W_seg.nii.gz\n",
      "2024-03-30 16:08:21,146 INFO image_writer.py:194 - writing: outMR11voteAll/A063_v2_T2W_seg.nii.gz\n",
      "2024-03-30 16:08:30,441 INFO image_writer.py:194 - writing: outMR11voteAll/A064_v1_T2W_seg.nii.gz\n",
      "2024-03-30 16:08:39,740 INFO image_writer.py:194 - writing: outMR11voteAll/A064_v2_T2W_seg.nii.gz\n",
      "2024-03-30 16:08:49,034 INFO image_writer.py:194 - writing: outMR11voteAll/A066_v1_T2W_seg.nii.gz\n",
      "2024-03-30 16:08:58,341 INFO image_writer.py:194 - writing: outMR11voteAll/A066_v2_T2W_seg.nii.gz\n",
      "2024-03-30 16:09:07,652 INFO image_writer.py:194 - writing: outMR11voteAll/A067_v1_T2W_seg.nii.gz\n",
      "2024-03-30 16:09:16,942 INFO image_writer.py:194 - writing: outMR11voteAll/A067_v2_T2W_seg.nii.gz\n",
      "2024-03-30 16:09:24,038 INFO image_writer.py:194 - writing: outMR11voteAll/A068_v1_T2W_seg.nii.gz\n",
      "2024-03-30 16:09:31,853 INFO image_writer.py:194 - writing: outMR11voteAll/A068_v2_T2W_seg.nii.gz\n",
      "2024-03-30 16:09:54,440 INFO image_writer.py:194 - writing: outMR11voteAll/A071_v1_T2W_seg.nii.gz\n",
      "2024-03-30 16:10:17,080 INFO image_writer.py:194 - writing: outMR11voteAll/A071_v2_T2W_seg.nii.gz\n",
      "2024-03-30 16:10:39,731 INFO image_writer.py:194 - writing: outMR11voteAll/A074_v1_T2W_seg.nii.gz\n"
     ]
    }
   ],
   "source": [
    "vote_post_transforms = Compose(\n",
    "    [\n",
    "        EnsureTyped(keys=[\"pred0\", \"pred1\", \"pred2\", \"pred3\", \"pred4\"]),\n",
    "        Activationsd(keys=[\"pred0\", \"pred1\", \"pred2\", \"pred3\", \"pred4\"], sigmoid=True),\n",
    "        # transform data into discrete before voting\n",
    "        AsDiscreted(keys=[\"pred0\", \"pred1\", \"pred2\", \"pred3\", \"pred4\"], argmax=True, to_onehot=6),\n",
    "        VoteEnsembled(keys=[\"pred0\", \"pred1\", \"pred2\", \"pred3\", \"pred4\"], \n",
    "                      output_key=\"pred\"),\n",
    "        Invertd(\n",
    "        keys=\"pred\",\n",
    "        transform=test_org_transforms,\n",
    "        orig_keys=\"image\",\n",
    "        meta_keys=\"pred_meta_dict\",\n",
    "        orig_meta_keys=\"image_meta_dict\",\n",
    "        meta_key_postfix=\"meta_dict\",\n",
    "        nearest_interp=False,\n",
    "        to_tensor=True,\n",
    "        ),\n",
    "        AsDiscreted(keys=\"pred\", argmax=True, to_onehot=6),\n",
    "        SaveImaged(keys=\"pred\", meta_keys=\"pred_meta_dict\", output_dir=\"./outMR11voteAll\", output_postfix=\"seg\", resample=False, separate_folder=False),\n",
    "    ]\n",
    ")\n",
    "ensemble_inference(vote_post_transforms, models)"
   ]
  },
  {
   "cell_type": "code",
   "execution_count": 18,
   "id": "c91f7b2f",
   "metadata": {},
   "outputs": [
    {
     "name": "stdout",
     "output_type": "stream",
     "text": [
      "outMR11wtAvgAll/\n",
      "outMR11wtAvgAll/A026_v1_T2W_seg.nii.gz\n",
      "outMR11wtAvgAll/A011_v2_T2W_seg.nii.gz\n",
      "outMR11wtAvgAll/A003_v1_T2W_seg.nii.gz\n",
      "outMR11wtAvgAll/A034_v1_T2W_seg.nii.gz\n",
      "outMR11wtAvgAll/A017_v1_T2W_seg.nii.gz\n",
      "outMR11wtAvgAll/A057_v2_T2W_seg.nii.gz\n",
      "outMR11wtAvgAll/A031_v1_T2W_seg.nii.gz\n",
      "outMR11wtAvgAll/A033_v3_T2W_seg.nii.gz\n",
      "outMR11wtAvgAll/A011_v1_T2W_seg.nii.gz\n",
      "outMR11wtAvgAll/A071_v2_T2W_seg.nii.gz\n",
      "outMR11wtAvgAll/A048_v2_T2W_seg.nii.gz\n",
      "outMR11wtAvgAll/A028_v1_T2W_seg.nii.gz\n",
      "outMR11wtAvgAll/A068_v1_T2W_seg.nii.gz\n",
      "outMR11wtAvgAll/A032_v2_T2W_seg.nii.gz\n",
      "outMR11wtAvgAll/A071_v1_T2W_seg.nii.gz\n",
      "outMR11wtAvgAll/A049_v1_T2W_seg.nii.gz\n",
      "outMR11wtAvgAll/A061_v2_T2W_seg.nii.gz\n",
      "outMR11wtAvgAll/A026_v2_T2W_seg.nii.gz\n",
      "outMR11wtAvgAll/A043_v2_T2W_seg.nii.gz\n",
      "outMR11wtAvgAll/A050_v1_T2W_seg.nii.gz\n",
      "outMR11wtAvgAll/A063_v1_T2W_seg.nii.gz\n",
      "outMR11wtAvgAll/A046_v2_T2W_seg.nii.gz\n",
      "outMR11wtAvgAll/A041_v2_T2W_seg.nii.gz\n",
      "outMR11wtAvgAll/A003_v2_T2W_seg.nii.gz\n",
      "outMR11wtAvgAll/A033_v1_T2W_seg.nii.gz\n",
      "outMR11wtAvgAll/A043_v5_T2W_seg.nii.gz\n",
      "outMR11wtAvgAll/A014_v2_T2W_seg.nii.gz\n",
      "outMR11wtAvgAll/A066_v2_T2W_seg.nii.gz\n",
      "outMR11wtAvgAll/A051_v2_T2W_seg.nii.gz\n",
      "outMR11wtAvgAll/A029_v1_T2W_seg.nii.gz\n",
      "outMR11wtAvgAll/A068_v2_T2W_seg.nii.gz\n",
      "outMR11wtAvgAll/A013_v2_T2W_seg.nii.gz\n",
      "outMR11wtAvgAll/A051_v1_T2W_seg.nii.gz\n",
      "outMR11wtAvgAll/A030_v1_T2W_seg.nii.gz\n",
      "outMR11wtAvgAll/A067_v2_T2W_seg.nii.gz\n",
      "outMR11wtAvgAll/A064_v1_T2W_seg.nii.gz\n",
      "outMR11wtAvgAll/A014_v1_T2W_seg.nii.gz\n",
      "outMR11wtAvgAll/A021_v2_T2W_seg.nii.gz\n",
      "outMR11wtAvgAll/A039_v1_T2W_seg.nii.gz\n",
      "outMR11wtAvgAll/A036_v1_T2W_seg.nii.gz\n",
      "outMR11wtAvgAll/A033_v2_T2W_seg.nii.gz\n",
      "outMR11wtAvgAll/A055_v1_T2W_seg.nii.gz\n",
      "outMR11wtAvgAll/A038_v2_T2W_seg.nii.gz\n",
      "outMR11wtAvgAll/A063_v2_T2W_seg.nii.gz\n",
      "outMR11wtAvgAll/A030_v2_T2W_seg.nii.gz\n",
      "outMR11wtAvgAll/A016_v2_T2W_seg.nii.gz\n",
      "outMR11wtAvgAll/A046_v1_T2W_seg.nii.gz\n",
      "outMR11wtAvgAll/A047_v2_T2W_seg.nii.gz\n",
      "outMR11wtAvgAll/A040_v2_T2W_seg.nii.gz\n",
      "outMR11wtAvgAll/A067_v1_T2W_seg.nii.gz\n",
      "outMR11wtAvgAll/A039_v2_T2W_seg.nii.gz\n",
      "outMR11wtAvgAll/A043_v1_T2W_seg.nii.gz\n",
      "outMR11wtAvgAll/A048_v1_T2W_seg.nii.gz\n",
      "outMR11wtAvgAll/A022_v2_T2W_seg.nii.gz\n",
      "outMR11wtAvgAll/A040_v1_T2W_seg.nii.gz\n",
      "outMR11wtAvgAll/A038_v1_T2W_seg.nii.gz\n",
      "outMR11wtAvgAll/A066_v1_T2W_seg.nii.gz\n",
      "outMR11wtAvgAll/A052_v2_T2W_seg.nii.gz\n",
      "outMR11wtAvgAll/A029_v2_T2W_seg.nii.gz\n",
      "outMR11wtAvgAll/A036_v2_T2W_seg.nii.gz\n",
      "outMR11wtAvgAll/A074_v2_T2W_seg.nii.gz\n",
      "outMR11wtAvgAll/A009_v1_T2W_seg.nii.gz\n",
      "outMR11wtAvgAll/A009_v2_T2W_seg.nii.gz\n",
      "outMR11wtAvgAll/A024_v2_T2W_seg.nii.gz\n",
      "outMR11wtAvgAll/A028_v2_T2W_seg.nii.gz\n",
      "outMR11wtAvgAll/A022_v1_T2W_seg.nii.gz\n",
      "outMR11wtAvgAll/A062_v1_T2W_seg.nii.gz\n",
      "outMR11wtAvgAll/A061_v1_T2W_seg.nii.gz\n",
      "outMR11wtAvgAll/A055_v2_T2W_seg.nii.gz\n",
      "outMR11wtAvgAll/A023_v1_T2W_seg.nii.gz\n",
      "outMR11wtAvgAll/A076_v2_T2W_seg.nii.gz\n",
      "outMR11wtAvgAll/A032_v1_T2W_seg.nii.gz\n",
      "outMR11wtAvgAll/A029_v3_T2W_seg.nii.gz\n",
      "outMR11wtAvgAll/A023_v2_T2W_seg.nii.gz\n",
      "outMR11wtAvgAll/A056_v1_T2W_seg.nii.gz\n",
      "outMR11wtAvgAll/A016_v1_T2W_seg.nii.gz\n",
      "outMR11wtAvgAll/A034_v2_T2W_seg.nii.gz\n",
      "outMR11wtAvgAll/A021_v1_T2W_seg.nii.gz\n",
      "outMR11wtAvgAll/A041_v1_T2W_seg.nii.gz\n",
      "outMR11wtAvgAll/A015_v2_T2W_seg.nii.gz\n",
      "outMR11wtAvgAll/A064_v2_T2W_seg.nii.gz\n",
      "outMR11wtAvgAll/A049_v2_T2W_seg.nii.gz\n",
      "outMR11wtAvgAll/A024_v1_T2W_seg.nii.gz\n",
      "outMR11wtAvgAll/A018_v1_T2W_seg.nii.gz\n",
      "outMR11wtAvgAll/A002_v3_T2W_seg.nii.gz\n",
      "outMR11wtAvgAll/A057_v1_T2W_seg.nii.gz\n",
      "outMR11wtAvgAll/A029_v4_T2W_seg.nii.gz\n",
      "outMR11wtAvgAll/A037_v2_T2W_seg.nii.gz\n",
      "outMR11wtAvgAll/A033_v4_T2W_seg.nii.gz\n",
      "outMR11wtAvgAll/A076_v1_T2W_seg.nii.gz\n",
      "outMR11wtAvgAll/A047_v1_T2W_seg.nii.gz\n",
      "outMR11wtAvgAll/A031_v2_T2W_seg.nii.gz\n",
      "outMR11wtAvgAll/A056_v2_T2W_seg.nii.gz\n",
      "outMR11wtAvgAll/A002_v2_T2W_seg.nii.gz\n",
      "outMR11wtAvgAll/A002_v1_T2W_seg.nii.gz\n",
      "outMR11wtAvgAll/A017_v2_T2W_seg.nii.gz\n",
      "outMR11wtAvgAll/A018_v2_T2W_seg.nii.gz\n",
      "outMR11wtAvgAll/A013_v1_T2W_seg.nii.gz\n",
      "outMR11wtAvgAll/A015_v1_T2W_seg.nii.gz\n",
      "outMR11wtAvgAll/A062_v2_T2W_seg.nii.gz\n",
      "outMR11wtAvgAll/A037_v1_T2W_seg.nii.gz\n",
      "outMR11wtAvgAll/A074_v1_T2W_seg.nii.gz\n",
      "outMR11wtAvgAll/A052_v1_T2W_seg.nii.gz\n",
      "outMR11wtAvgAll/A050_v2_T2W_seg.nii.gz\n"
     ]
    }
   ],
   "source": [
    "!tar -cvzf outMR11wtAvgAll.tar.gz outMR11wtAvgAll"
   ]
  },
  {
   "cell_type": "code",
   "execution_count": null,
   "id": "bab40a9b",
   "metadata": {},
   "outputs": [],
   "source": [
    "# !tar -cvzf outMR11meanAll.tar.gz outMR11meanAll"
   ]
  },
  {
   "cell_type": "code",
   "execution_count": null,
   "id": "4793b1a5",
   "metadata": {},
   "outputs": [],
   "source": []
  }
 ],
 "metadata": {
  "kernelspec": {
   "display_name": "Python 3 (ipykernel)",
   "language": "python",
   "name": "python3"
  },
  "language_info": {
   "codemirror_mode": {
    "name": "ipython",
    "version": 3
   },
   "file_extension": ".py",
   "mimetype": "text/x-python",
   "name": "python",
   "nbconvert_exporter": "python",
   "pygments_lexer": "ipython3",
   "version": "3.9.13"
  }
 },
 "nbformat": 4,
 "nbformat_minor": 5
}
