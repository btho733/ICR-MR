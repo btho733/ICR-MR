{
 "cells": [
  {
   "cell_type": "markdown",
   "id": "6306aa42",
   "metadata": {},
   "source": [
    "### Testing GPU connectivity in Tensorflow (Run in the TF environment)"
   ]
  },
  {
   "cell_type": "code",
   "execution_count": 2,
   "id": "e27860a6",
   "metadata": {},
   "outputs": [
    {
     "data": {
      "text/plain": [
       "[PhysicalDevice(name='/physical_device:CPU:0', device_type='CPU'),\n",
       " PhysicalDevice(name='/physical_device:GPU:0', device_type='GPU'),\n",
       " PhysicalDevice(name='/physical_device:GPU:1', device_type='GPU')]"
      ]
     },
     "execution_count": 2,
     "metadata": {},
     "output_type": "execute_result"
    }
   ],
   "source": [
    "import tensorflow as tf\n",
    "\n",
    "tf.config.list_physical_devices()"
   ]
  },
  {
   "cell_type": "markdown",
   "id": "d4e21d4f",
   "metadata": {},
   "source": [
    "### Testing GPU connectivity in PyTorch (Run in the PyTorch environment)"
   ]
  },
  {
   "cell_type": "code",
   "execution_count": 2,
   "id": "6ab0cb18",
   "metadata": {},
   "outputs": [
    {
     "name": "stdout",
     "output_type": "stream",
     "text": [
      "['Availability:', True]\n",
      "['Current Device count:', 2]\n",
      "['Current Device Name:', 'Quadro RTX 8000']\n",
      "['Current Device Name:', 'Quadro RTX 8000']\n"
     ]
    }
   ],
   "source": [
    "import torch\n",
    "\n",
    "print(['Availability:', torch.cuda.is_available()])\n",
    "# print(['Current Device number:', torch.cuda.current_device()])\n",
    "# print(['Current Device:', torch.cuda.device(0)])\n",
    "print(['Current Device count:', torch.cuda.device_count()])\n",
    "print(['Current Device Name:', torch.cuda.get_device_name(0)])\n",
    "print(['Current Device Name:', torch.cuda.get_device_name(1)])\n",
    "\n"
   ]
  },
  {
   "cell_type": "code",
   "execution_count": 3,
   "id": "9135fb01",
   "metadata": {},
   "outputs": [
    {
     "name": "stdout",
     "output_type": "stream",
     "text": [
      "Mon Jan 23 18:13:02 2023       \r\n",
      "+-----------------------------------------------------------------------------+\r\n",
      "| NVIDIA-SMI 515.86.01    Driver Version: 515.86.01    CUDA Version: 11.7     |\r\n",
      "|-------------------------------+----------------------+----------------------+\r\n",
      "| GPU  Name        Persistence-M| Bus-Id        Disp.A | Volatile Uncorr. ECC |\r\n",
      "| Fan  Temp  Perf  Pwr:Usage/Cap|         Memory-Usage | GPU-Util  Compute M. |\r\n",
      "|                               |                      |               MIG M. |\r\n",
      "|===============================+======================+======================|\r\n",
      "|   0  Quadro RTX 8000     Off  | 00000000:17:00.0 Off |                  Off |\r\n",
      "| 34%   31C    P8    35W / 260W |      8MiB / 49152MiB |      0%      Default |\r\n",
      "|                               |                      |                  N/A |\r\n",
      "+-------------------------------+----------------------+----------------------+\r\n",
      "|   1  Quadro RTX 8000     Off  | 00000000:65:00.0 Off |                  Off |\r\n",
      "| 34%   33C    P8    33W / 260W |     12MiB / 49152MiB |      0%      Default |\r\n",
      "|                               |                      |                  N/A |\r\n",
      "+-------------------------------+----------------------+----------------------+\r\n",
      "                                                                               \r\n",
      "+-----------------------------------------------------------------------------+\r\n",
      "| Processes:                                                                  |\r\n",
      "|  GPU   GI   CI        PID   Type   Process name                  GPU Memory |\r\n",
      "|        ID   ID                                                   Usage      |\r\n",
      "|=============================================================================|\r\n",
      "|  No running processes found                                                 |\r\n",
      "+-----------------------------------------------------------------------------+\r\n"
     ]
    }
   ],
   "source": [
    "!nvidia-smi"
   ]
  },
  {
   "cell_type": "code",
   "execution_count": null,
   "id": "06695382",
   "metadata": {},
   "outputs": [],
   "source": []
  }
 ],
 "metadata": {
  "kernelspec": {
   "display_name": "Python 3 (ipykernel)",
   "language": "python",
   "name": "python3"
  },
  "language_info": {
   "codemirror_mode": {
    "name": "ipython",
    "version": 3
   },
   "file_extension": ".py",
   "mimetype": "text/x-python",
   "name": "python",
   "nbconvert_exporter": "python",
   "pygments_lexer": "ipython3",
   "version": "3.9.13"
  }
 },
 "nbformat": 4,
 "nbformat_minor": 5
}
